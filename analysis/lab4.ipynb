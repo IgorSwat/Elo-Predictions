{
 "cells": [
  {
   "cell_type": "markdown",
   "id": "56db02aa",
   "metadata": {},
   "source": [
    "## 5. Selekcja cech dla modeli liniowych"
   ]
  },
  {
   "cell_type": "code",
   "execution_count": 18,
   "id": "1da89e03",
   "metadata": {
    "vscode": {
     "languageId": "r"
    }
   },
   "outputs": [],
   "source": [
    "library(yaml)\n",
    "library(ggplot2)\n",
    "library(leaps)\n",
    "library(knitr)\n",
    "\n",
    "# Global options\n",
    "options(repr.plot.width = 10, repr.plot.height = 10)"
   ]
  },
  {
   "cell_type": "markdown",
   "id": "57af7eef",
   "metadata": {},
   "source": [
    "### 5.1 Wczytywanie konfiguracji (*config.yaml*):"
   ]
  },
  {
   "cell_type": "code",
   "execution_count": 2,
   "id": "bc61af40",
   "metadata": {
    "vscode": {
     "languageId": "r"
    }
   },
   "outputs": [],
   "source": [
    "config <- yaml.load_file(\"../config.yaml\")\n",
    "\n",
    "train_filepath <- file.path(\"..\", config$paths$data_train)\n",
    "test_filepath <- file.path(\"..\", config$paths$data_test)"
   ]
  },
  {
   "cell_type": "markdown",
   "id": "eb451c14",
   "metadata": {},
   "source": [
    "### 5.2 Przygotowanie danych"
   ]
  },
  {
   "cell_type": "code",
   "execution_count": 3,
   "id": "b6e652a3",
   "metadata": {
    "vscode": {
     "languageId": "r"
    }
   },
   "outputs": [],
   "source": [
    "data_train <- read.csv(train_filepath)\n",
    "data_test <- read.csv(test_filepath)\n",
    "\n",
    "data_train$name <- NULL\n",
    "data_train$games <- NULL\n",
    "\n",
    "data_test$name <- NULL\n",
    "data_test$games <- NULL"
   ]
  },
  {
   "cell_type": "markdown",
   "id": "9d31037b",
   "metadata": {},
   "source": [
    "### 5.3 Wybór najlepszego podzbioru cech"
   ]
  },
  {
   "cell_type": "code",
   "execution_count": 4,
   "id": "193cda4a",
   "metadata": {
    "vscode": {
     "languageId": "r"
    }
   },
   "outputs": [
    {
     "data": {
      "text/plain": [
       "Subset selection object\n",
       "Call: regsubsets.formula(elo ~ ., data = data_train, nvmax = n_features)\n",
       "13 Variables  (and intercept)\n",
       "                   Forced in Forced out\n",
       "avg_moves              FALSE      FALSE\n",
       "frac_nonterm           FALSE      FALSE\n",
       "avg_cp_loss            FALSE      FALSE\n",
       "avg_inacc              FALSE      FALSE\n",
       "avg_mist               FALSE      FALSE\n",
       "avg_blund              FALSE      FALSE\n",
       "frac_time_win          FALSE      FALSE\n",
       "frac_time_loss         FALSE      FALSE\n",
       "avg_time_good          FALSE      FALSE\n",
       "avg_time_inaccm        FALSE      FALSE\n",
       "avg_time_blund         FALSE      FALSE\n",
       "avg_mat_imb_per_mv     FALSE      FALSE\n",
       "avg_book_moves         FALSE      FALSE\n",
       "1 subsets of each size up to 13\n",
       "Selection Algorithm: exhaustive\n",
       "          avg_moves frac_nonterm avg_cp_loss avg_inacc avg_mist avg_blund\n",
       "1  ( 1 )  \" \"       \" \"          \"*\"         \" \"       \" \"      \" \"      \n",
       "2  ( 1 )  \" \"       \" \"          \"*\"         \" \"       \" \"      \" \"      \n",
       "3  ( 1 )  \"*\"       \" \"          \"*\"         \" \"       \" \"      \" \"      \n",
       "4  ( 1 )  \"*\"       \" \"          \"*\"         \" \"       \" \"      \"*\"      \n",
       "5  ( 1 )  \"*\"       \" \"          \"*\"         \" \"       \" \"      \"*\"      \n",
       "6  ( 1 )  \"*\"       \" \"          \"*\"         \" \"       \" \"      \"*\"      \n",
       "7  ( 1 )  \"*\"       \" \"          \"*\"         \" \"       \" \"      \"*\"      \n",
       "8  ( 1 )  \"*\"       \" \"          \"*\"         \" \"       \" \"      \"*\"      \n",
       "9  ( 1 )  \"*\"       \" \"          \"*\"         \"*\"       \" \"      \"*\"      \n",
       "10  ( 1 ) \"*\"       \" \"          \"*\"         \"*\"       \"*\"      \"*\"      \n",
       "11  ( 1 ) \"*\"       \"*\"          \"*\"         \"*\"       \"*\"      \"*\"      \n",
       "12  ( 1 ) \"*\"       \"*\"          \"*\"         \"*\"       \"*\"      \"*\"      \n",
       "13  ( 1 ) \"*\"       \"*\"          \"*\"         \"*\"       \"*\"      \"*\"      \n",
       "          frac_time_win frac_time_loss avg_time_good avg_time_inaccm\n",
       "1  ( 1 )  \" \"           \" \"            \" \"           \" \"            \n",
       "2  ( 1 )  \" \"           \" \"            \" \"           \" \"            \n",
       "3  ( 1 )  \" \"           \" \"            \" \"           \" \"            \n",
       "4  ( 1 )  \" \"           \" \"            \" \"           \" \"            \n",
       "5  ( 1 )  \" \"           \" \"            \" \"           \" \"            \n",
       "6  ( 1 )  \"*\"           \" \"            \" \"           \" \"            \n",
       "7  ( 1 )  \" \"           \"*\"            \"*\"           \" \"            \n",
       "8  ( 1 )  \" \"           \"*\"            \"*\"           \" \"            \n",
       "9  ( 1 )  \" \"           \"*\"            \"*\"           \" \"            \n",
       "10  ( 1 ) \" \"           \"*\"            \"*\"           \" \"            \n",
       "11  ( 1 ) \" \"           \"*\"            \"*\"           \" \"            \n",
       "12  ( 1 ) \"*\"           \"*\"            \"*\"           \" \"            \n",
       "13  ( 1 ) \"*\"           \"*\"            \"*\"           \"*\"            \n",
       "          avg_time_blund avg_mat_imb_per_mv avg_book_moves\n",
       "1  ( 1 )  \" \"            \" \"                \" \"           \n",
       "2  ( 1 )  \" \"            \"*\"                \" \"           \n",
       "3  ( 1 )  \" \"            \"*\"                \" \"           \n",
       "4  ( 1 )  \" \"            \"*\"                \" \"           \n",
       "5  ( 1 )  \" \"            \"*\"                \"*\"           \n",
       "6  ( 1 )  \" \"            \"*\"                \"*\"           \n",
       "7  ( 1 )  \" \"            \"*\"                \"*\"           \n",
       "8  ( 1 )  \"*\"            \"*\"                \"*\"           \n",
       "9  ( 1 )  \"*\"            \"*\"                \"*\"           \n",
       "10  ( 1 ) \"*\"            \"*\"                \"*\"           \n",
       "11  ( 1 ) \"*\"            \"*\"                \"*\"           \n",
       "12  ( 1 ) \"*\"            \"*\"                \"*\"           \n",
       "13  ( 1 ) \"*\"            \"*\"                \"*\"           "
      ]
     },
     "metadata": {},
     "output_type": "display_data"
    }
   ],
   "source": [
    "n_features <- ncol(data_train) - 1   # Except target variable 'elo'\n",
    "\n",
    "elo_bs <- regsubsets(elo ~ ., data = data_train, nvmax = n_features)\n",
    "elo_bs_sum <- summary(elo_bs)\n",
    "\n",
    "elo_bs_sum"
   ]
  },
  {
   "cell_type": "markdown",
   "id": "e257da40",
   "metadata": {},
   "source": [
    "Na podstawie powyższej selekcji cech widzimy, iż zdecydowanie najważniejszą cechą jest ```avg_cp_loss``` - jest ona częścią podzbioru najlepszych cech niezależnie od jego rozmiaru. Inną bardzo istotną (choć nie aż tak jak avg_cp_loss) cechą jest ```avg_mat_imb_per_mv```, opisującą uśrednioną nierównowagę materialną w partiach danego gracza. \n",
    "\n",
    "Ciekawostką może być fakt, iż przy założeniu modelu z 6 zmiennymi istotną cechą jest ```frac_time_win``` (odsetek czasu zużywanego w partiach wygranych), podczas gdy przy większej liczbie cech traci ona na znaczeniu na rzecz ```frac_time_loss``` (odsetek czasu zużywanego w partiach przegranych). Może to sugerować zarówno *współliniowość* tych zmiennych (jedna skorelowana z drugą - co można było zauważyć na macierzy kowariancji w poprzedniej sekcji raportu) jak i występowanie *efektu maskowania* - dalsza analiza statystyczna jest wymagana do potwierdzenia tej hipotezy.\n",
    "\n",
    "Korzystając z kryterium *BIC (Bayesian Information Criterion)* możemy dokonać selekcji podzbioru najważniejszych cech:"
   ]
  },
  {
   "cell_type": "code",
   "execution_count": 25,
   "id": "338125cf",
   "metadata": {
    "vscode": {
     "languageId": "r"
    }
   },
   "outputs": [
    {
     "name": "stdout",
     "output_type": "stream",
     "text": [
      "Najlepszy model według BIC: 10 \n",
      "Najniższa wartość BIC: -13062.1090087743"
     ]
    }
   ],
   "source": [
    "bic_min <- which.min(elo_bs_sum$bic)\n",
    "\n",
    "cat(paste(\"Najlepszy model według BIC:\", bic_min, \"\\n\"))\n",
    "cat(paste(\"Najniższa wartość BIC:\", elo_bs_sum$bic[bic_min]))"
   ]
  },
  {
   "cell_type": "code",
   "execution_count": 36,
   "id": "72494b78",
   "metadata": {
    "vscode": {
     "languageId": "r"
    }
   },
   "outputs": [
    {
     "data": {
      "image/png": "[encoded data removed]",
      "text/plain": [
       "plot without title"
      ]
     },
     "metadata": {
      "image/png": {
       "height": 600,
       "width": 600
      }
     },
     "output_type": "display_data"
    }
   ],
   "source": [
    "bic_df <- data.frame(\n",
    "  LiczbaZmiennych = 1:length(elo_bs_sum$bic),\n",
    "  BIC = elo_bs_sum$bic\n",
    ")\n",
    "\n",
    "bic_df$Najlepszy <- FALSE\n",
    "bic_df$Najlepszy[bic_min] <- TRUE\n",
    "\n",
    "ggplot(bic_df, aes(x = LiczbaZmiennych, y = BIC)) +\n",
    "  geom_line(color = \"darkgreen\", size = 1.2) +\n",
    "  geom_point(aes(color = Najlepszy), size = 3) +\n",
    "  scale_color_manual(values = c(\"FALSE\" = \"darkgreen\", \"TRUE\" = \"red\")) +\n",
    "  labs(\n",
    "    title = \"Wartość BIC w zależności od liczby zmiennych\",\n",
    "    x = \"Liczba zmiennych w modelu\",\n",
    "    y = \"Wartość BIC\",\n",
    "    color = \"\"\n",
    "  ) +\n",
    "  theme_minimal(base_size = 20) +\n",
    "  theme(legend.position = \"top\") +\n",
    "  geom_text(\n",
    "    data = subset(bic_df, Najlepszy),\n",
    "    aes(label = paste0(\"Best: \", round(BIC, 2))),\n",
    "    vjust = -1,\n",
    "    color = \"red\",\n",
    "    size = 6\n",
    "  )"
   ]
  },
  {
   "cell_type": "markdown",
   "id": "7012fb32",
   "metadata": {},
   "source": [
    "Według kryterium BIC, najlepszy model możemy osiągnąć wykorzystując 10 cech. Poniżej wypisane zostały owe cechy wraz ze współczynnikami modelu regresji liniowej wykorzystującego dane cechy do predykcji wartości rankingu gracza (elo):"
   ]
  },
  {
   "cell_type": "code",
   "execution_count": 21,
   "id": "acac82d9",
   "metadata": {
    "vscode": {
     "languageId": "r"
    }
   },
   "outputs": [
    {
     "data": {
      "text/plain": [
       "\n",
       "\n",
       "Table: Współczynniki w najlepszym modelu (na podstawie BIC)\n",
       "\n",
       "|Variable           | Coefficient|\n",
       "|:------------------|-----------:|\n",
       "|(Intercept)        | 1848.259121|\n",
       "|avg_moves          |   15.898998|\n",
       "|avg_cp_loss        |   -4.749684|\n",
       "|avg_inacc          |  -18.675039|\n",
       "|avg_mist           |   17.549193|\n",
       "|avg_blund          | -120.851638|\n",
       "|frac_time_loss     |  114.836646|\n",
       "|avg_time_good      |  -13.799206|\n",
       "|avg_time_blund     |    2.065997|\n",
       "|avg_mat_imb_per_mv |  -72.468619|\n",
       "|avg_book_moves     |   49.324419|"
      ]
     },
     "metadata": {},
     "output_type": "display_data"
    }
   ],
   "source": [
    "coefficients <- coef(elo_bs, id = bic_min)\n",
    "\n",
    "coef_df <- data.frame(\n",
    "  Variable = names(coefficients),\n",
    "  Coefficient = as.numeric(coefficients),\n",
    "  row.names = NULL\n",
    ")\n",
    "\n",
    "kable(coef_df, caption = \"Współczynniki w najlepszym modelu (na podstawie BIC)\")"
   ]
  },
  {
   "cell_type": "markdown",
   "id": "af5acd57",
   "metadata": {},
   "source": [
    "Powyższa analiza została wykonana w oparciu o metrykę BIC. Teraz wykonamy podobną analizę, ale wykorzystując poprawione $R^2$ jako metrykę główną. Warto zaznaczyć, iż w przypadku metryki opartej o poprawione $R^2$ najlepszy model to ten, który <u>maksymalizuje</u> wartość metryki."
   ]
  },
  {
   "cell_type": "code",
   "execution_count": 26,
   "id": "ecc9d160",
   "metadata": {
    "vscode": {
     "languageId": "r"
    }
   },
   "outputs": [
    {
     "name": "stdout",
     "output_type": "stream",
     "text": [
      "Best model according to Adjusted R² is model number: 13 \n",
      "Maximum Adjusted R² value: 0.731641578268444"
     ]
    }
   ],
   "source": [
    "adjr2_max <- which.max(elo_bs_sum$adjr2)\n",
    "\n",
    "cat(paste(\"Best model according to Adjusted R² is model number:\", adjr2_max, \"\\n\"))\n",
    "cat(paste(\"Maximum Adjusted R² value:\", elo_bs_sum$adjr2[adjr2_max]))"
   ]
  },
  {
   "cell_type": "code",
   "execution_count": 35,
   "id": "429ae959",
   "metadata": {
    "vscode": {
     "languageId": "r"
    }
   },
   "outputs": [
    {
     "data": {
      "image/png": "[encoded data removed]",
      "text/plain": [
       "plot without title"
      ]
     },
     "metadata": {
      "image/png": {
       "height": 600,
       "width": 600
      }
     },
     "output_type": "display_data"
    }
   ],
   "source": [
    "adjr2_df <- data.frame(\n",
    "  NumVariables = 1:length(elo_bs_sum$adjr2),\n",
    "  AdjustedR2 = elo_bs_sum$adjr2\n",
    ")\n",
    "\n",
    "adjr2_df$Best <- FALSE\n",
    "adjr2_df$Best[adjr2_max] <- TRUE\n",
    "\n",
    "ggplot(adjr2_df, aes(x = NumVariables, y = AdjustedR2)) +\n",
    "  geom_line(color = \"darkblue\", size = 1.2) +\n",
    "  geom_point(aes(color = Best), size = 3) +\n",
    "  scale_color_manual(values = c(\"FALSE\" = \"darkblue\", \"TRUE\" = \"red\")) +\n",
    "  labs(\n",
    "    title = \"Poprawione R² w zależności od liczby zmiennych\",\n",
    "    x = \"Liczba zmiennych w modelu\",\n",
    "    y = \"Poprawione R²\",\n",
    "    color = \"\"\n",
    "  ) +\n",
    "  theme_minimal(base_size = 20) +\n",
    "  theme(legend.position = \"top\") +\n",
    "  geom_text(\n",
    "    data = subset(adjr2_df, Best),\n",
    "    aes(label = paste0(\"Best: \", round(AdjustedR2, 4))),\n",
    "    vjust = -1,\n",
    "    color = \"red\",\n",
    "    size = 6\n",
    "  )"
   ]
  },
  {
   "cell_type": "markdown",
   "id": "6eac7a04",
   "metadata": {},
   "source": [
    "Jak widać w przypadku metryki poprawionego $R^2$, w przeciwieństwie do metryki BIC, najlepszym modelem jest ten z maksymalną możliwą liczbą cech ($13$). Warto jednak zauważyć, że kształt krzywej w obydwu przypadkach jest podobny, tylko odbity symetrycznie w pionie (maksymalizujemy zamiast minimalizować)."
   ]
  },
  {
   "cell_type": "code",
   "execution_count": 38,
   "id": "890263b6",
   "metadata": {
    "vscode": {
     "languageId": "r"
    }
   },
   "outputs": [
    {
     "data": {
      "text/plain": [
       "\n",
       "\n",
       "Table: Współczynniki w najlepszym modelu (na podstawie poprawionego R^2)\n",
       "\n",
       "|Variable           |  Coefficient|\n",
       "|:------------------|------------:|\n",
       "|(Intercept)        | 1858.0955764|\n",
       "|avg_moves          |   16.3030771|\n",
       "|frac_nonterm       |  -22.5248999|\n",
       "|avg_cp_loss        |   -4.8413284|\n",
       "|avg_inacc          |  -17.8468392|\n",
       "|avg_mist           |   18.3452756|\n",
       "|avg_blund          | -120.7608131|\n",
       "|frac_time_win      |  -27.1943422|\n",
       "|frac_time_loss     |  101.2796385|\n",
       "|avg_time_good      |  -12.8773461|\n",
       "|avg_time_inaccm    |    0.8363527|\n",
       "|avg_time_blund     |    2.1446785|\n",
       "|avg_mat_imb_per_mv |  -73.1492881|\n",
       "|avg_book_moves     |   49.0308218|"
      ]
     },
     "metadata": {},
     "output_type": "display_data"
    }
   ],
   "source": [
    "coefficients <- coef(elo_bs, id = adjr2_max)\n",
    "\n",
    "coef_df <- data.frame(\n",
    "  Variable = names(coefficients),\n",
    "  Coefficient = as.numeric(coefficients),\n",
    "  row.names = NULL\n",
    ")\n",
    "\n",
    "kable(coef_df, caption = \"Współczynniki w najlepszym modelu (na podstawie poprawionego R^2)\")"
   ]
  },
  {
   "cell_type": "markdown",
   "id": "4d8aa2b4",
   "metadata": {},
   "source": [
    "Analizując współczynniki obu najlepszych modeli — wybranego na podstawie kryterium BIC oraz poprawionego $R²$ — można zauważyć, że oba modele mają wiele wspólnych cech, ale również pewne różnice w uwzględnionych zmiennych. Wspólne dla obu modeli jest silne dodatnie znaczenie zmiennej ```avg_moves```, co wskazuje, że wzrost średniej liczby ruchów wiąże się ze wzrostem wartości przewidywanej zmiennej zależnej. Z kolei zmienne takie jak ```avg_cp_loss```, ```avg_inacc```, ```avg_blund``` oraz ```avg_mat_imb_per_mv``` mają ujemne współczynniki, co sugeruje, że większe wartości tych cech negatywnie wpływają na wynik. W obu modelach dodatnio wpływa na wynik avg_mist, a także avg_book_moves. Warto zauważyć, że model oparty na poprawionym $R²$ zawiera więcej zmiennych, w tym ```frac_nonterm``` i ```frac_time_win```, które mają odpowiednio ujemne współczynniki, co może wskazywać na dodatkowe aspekty wpływające na wynik, nieujęte w modelu BIC. Zmienna ```frac_time_loss``` ma w obu modelach dodatni i stosunkowo duży współczynnik, co sugeruje, że większy udział czasu zużywanego w przegranych partiach jest skorelowany ze wzrostem wartości przewidywanego rankingu gracza. Zmienna ```avg_time_good``` wykazuje negatywny wpływ w obu modelach, co może oznaczać, że większa średnia czasu poświęcanego na dobre ruchy wiąże się z niższym wynikiem. Ogólnie oba modele wskazują na znaczenie zarówno aspektów jakościowych (np. błędy, niedokładności), jak i czasowych w predykcji analizowanego wyniku, z modelem opartym na poprawionym R² rozszerzonym o dodatkowe czynniki mogące lepiej tłumaczyć zmienność danych."
   ]
  },
  {
   "cell_type": "markdown",
   "id": "284b28e7",
   "metadata": {},
   "source": [
    "### 5.4 Selekcja krokowa do przodu i wstecz"
   ]
  },
  {
   "cell_type": "code",
   "execution_count": 40,
   "id": "7ca6081c",
   "metadata": {
    "vscode": {
     "languageId": "r"
    }
   },
   "outputs": [
    {
     "name": "stdout",
     "output_type": "stream",
     "text": [
      "Podsumowanie modelu forward stepwise:\n",
      "Subset selection object\n",
      "Call: regsubsets.formula(elo ~ ., data = data_train, nvmax = n_features, \n",
      "    method = \"forward\")\n",
      "13 Variables  (and intercept)\n",
      "                   Forced in Forced out\n",
      "avg_moves              FALSE      FALSE\n",
      "frac_nonterm           FALSE      FALSE\n",
      "avg_cp_loss            FALSE      FALSE\n",
      "avg_inacc              FALSE      FALSE\n",
      "avg_mist               FALSE      FALSE\n",
      "avg_blund              FALSE      FALSE\n",
      "frac_time_win          FALSE      FALSE\n",
      "frac_time_loss         FALSE      FALSE\n",
      "avg_time_good          FALSE      FALSE\n",
      "avg_time_inaccm        FALSE      FALSE\n",
      "avg_time_blund         FALSE      FALSE\n",
      "avg_mat_imb_per_mv     FALSE      FALSE\n",
      "avg_book_moves         FALSE      FALSE\n",
      "1 subsets of each size up to 13\n",
      "Selection Algorithm: forward\n",
      "          avg_moves frac_nonterm avg_cp_loss avg_inacc avg_mist avg_blund\n",
      "1  ( 1 )  \" \"       \" \"          \"*\"         \" \"       \" \"      \" \"      \n",
      "2  ( 1 )  \" \"       \" \"          \"*\"         \" \"       \" \"      \" \"      \n",
      "3  ( 1 )  \"*\"       \" \"          \"*\"         \" \"       \" \"      \" \"      \n",
      "4  ( 1 )  \"*\"       \" \"          \"*\"         \" \"       \" \"      \"*\"      \n",
      "5  ( 1 )  \"*\"       \" \"          \"*\"         \" \"       \" \"      \"*\"      \n",
      "6  ( 1 )  \"*\"       \" \"          \"*\"         \" \"       \" \"      \"*\"      \n",
      "7  ( 1 )  \"*\"       \" \"          \"*\"         \" \"       \" \"      \"*\"      \n",
      "8  ( 1 )  \"*\"       \" \"          \"*\"         \" \"       \" \"      \"*\"      \n",
      "9  ( 1 )  \"*\"       \" \"          \"*\"         \" \"       \" \"      \"*\"      \n",
      "10  ( 1 ) \"*\"       \" \"          \"*\"         \"*\"       \" \"      \"*\"      \n",
      "11  ( 1 ) \"*\"       \" \"          \"*\"         \"*\"       \"*\"      \"*\"      \n",
      "12  ( 1 ) \"*\"       \"*\"          \"*\"         \"*\"       \"*\"      \"*\"      \n",
      "13  ( 1 ) \"*\"       \"*\"          \"*\"         \"*\"       \"*\"      \"*\"      \n",
      "          frac_time_win frac_time_loss avg_time_good avg_time_inaccm\n",
      "1  ( 1 )  \" \"           \" \"            \" \"           \" \"            \n",
      "2  ( 1 )  \" \"           \" \"            \" \"           \" \"            \n",
      "3  ( 1 )  \" \"           \" \"            \" \"           \" \"            \n",
      "4  ( 1 )  \" \"           \" \"            \" \"           \" \"            \n",
      "5  ( 1 )  \" \"           \" \"            \" \"           \" \"            \n",
      "6  ( 1 )  \"*\"           \" \"            \" \"           \" \"            \n",
      "7  ( 1 )  \"*\"           \" \"            \" \"           \" \"            \n",
      "8  ( 1 )  \"*\"           \" \"            \"*\"           \" \"            \n",
      "9  ( 1 )  \"*\"           \"*\"            \"*\"           \" \"            \n",
      "10  ( 1 ) \"*\"           \"*\"            \"*\"           \" \"            \n",
      "11  ( 1 ) \"*\"           \"*\"            \"*\"           \" \"            \n",
      "12  ( 1 ) \"*\"           \"*\"            \"*\"           \" \"            \n",
      "13  ( 1 ) \"*\"           \"*\"            \"*\"           \"*\"            \n",
      "          avg_time_blund avg_mat_imb_per_mv avg_book_moves\n",
      "1  ( 1 )  \" \"            \" \"                \" \"           \n",
      "2  ( 1 )  \" \"            \"*\"                \" \"           \n",
      "3  ( 1 )  \" \"            \"*\"                \" \"           \n",
      "4  ( 1 )  \" \"            \"*\"                \" \"           \n",
      "5  ( 1 )  \" \"            \"*\"                \"*\"           \n",
      "6  ( 1 )  \" \"            \"*\"                \"*\"           \n",
      "7  ( 1 )  \"*\"            \"*\"                \"*\"           \n",
      "8  ( 1 )  \"*\"            \"*\"                \"*\"           \n",
      "9  ( 1 )  \"*\"            \"*\"                \"*\"           \n",
      "10  ( 1 ) \"*\"            \"*\"                \"*\"           \n",
      "11  ( 1 ) \"*\"            \"*\"                \"*\"           \n",
      "12  ( 1 ) \"*\"            \"*\"                \"*\"           \n",
      "13  ( 1 ) \"*\"            \"*\"                \"*\"           \n",
      "\n",
      "\n",
      "Podsumowanie modelu backward stepwise:\n",
      "Subset selection object\n",
      "Call: regsubsets.formula(elo ~ ., data = data_train, nvmax = n_features, \n",
      "    method = \"backward\")\n",
      "13 Variables  (and intercept)\n",
      "                   Forced in Forced out\n",
      "avg_moves              FALSE      FALSE\n",
      "frac_nonterm           FALSE      FALSE\n",
      "avg_cp_loss            FALSE      FALSE\n",
      "avg_inacc              FALSE      FALSE\n",
      "avg_mist               FALSE      FALSE\n",
      "avg_blund              FALSE      FALSE\n",
      "frac_time_win          FALSE      FALSE\n",
      "frac_time_loss         FALSE      FALSE\n",
      "avg_time_good          FALSE      FALSE\n",
      "avg_time_inaccm        FALSE      FALSE\n",
      "avg_time_blund         FALSE      FALSE\n",
      "avg_mat_imb_per_mv     FALSE      FALSE\n",
      "avg_book_moves         FALSE      FALSE\n",
      "1 subsets of each size up to 13\n",
      "Selection Algorithm: backward\n",
      "          avg_moves frac_nonterm avg_cp_loss avg_inacc avg_mist avg_blund\n",
      "1  ( 1 )  \" \"       \" \"          \"*\"         \" \"       \" \"      \" \"      \n",
      "2  ( 1 )  \" \"       \" \"          \"*\"         \" \"       \" \"      \" \"      \n",
      "3  ( 1 )  \"*\"       \" \"          \"*\"         \" \"       \" \"      \" \"      \n",
      "4  ( 1 )  \"*\"       \" \"          \"*\"         \" \"       \" \"      \"*\"      \n",
      "5  ( 1 )  \"*\"       \" \"          \"*\"         \" \"       \" \"      \"*\"      \n",
      "6  ( 1 )  \"*\"       \" \"          \"*\"         \" \"       \" \"      \"*\"      \n",
      "7  ( 1 )  \"*\"       \" \"          \"*\"         \" \"       \" \"      \"*\"      \n",
      "8  ( 1 )  \"*\"       \" \"          \"*\"         \" \"       \" \"      \"*\"      \n",
      "9  ( 1 )  \"*\"       \" \"          \"*\"         \"*\"       \" \"      \"*\"      \n",
      "10  ( 1 ) \"*\"       \" \"          \"*\"         \"*\"       \"*\"      \"*\"      \n",
      "11  ( 1 ) \"*\"       \"*\"          \"*\"         \"*\"       \"*\"      \"*\"      \n",
      "12  ( 1 ) \"*\"       \"*\"          \"*\"         \"*\"       \"*\"      \"*\"      \n",
      "13  ( 1 ) \"*\"       \"*\"          \"*\"         \"*\"       \"*\"      \"*\"      \n",
      "          frac_time_win frac_time_loss avg_time_good avg_time_inaccm\n",
      "1  ( 1 )  \" \"           \" \"            \" \"           \" \"            \n",
      "2  ( 1 )  \" \"           \" \"            \" \"           \" \"            \n",
      "3  ( 1 )  \" \"           \" \"            \" \"           \" \"            \n",
      "4  ( 1 )  \" \"           \" \"            \" \"           \" \"            \n",
      "5  ( 1 )  \" \"           \" \"            \" \"           \" \"            \n",
      "6  ( 1 )  \" \"           \" \"            \"*\"           \" \"            \n",
      "7  ( 1 )  \" \"           \"*\"            \"*\"           \" \"            \n",
      "8  ( 1 )  \" \"           \"*\"            \"*\"           \" \"            \n",
      "9  ( 1 )  \" \"           \"*\"            \"*\"           \" \"            \n",
      "10  ( 1 ) \" \"           \"*\"            \"*\"           \" \"            \n",
      "11  ( 1 ) \" \"           \"*\"            \"*\"           \" \"            \n",
      "12  ( 1 ) \"*\"           \"*\"            \"*\"           \" \"            \n",
      "13  ( 1 ) \"*\"           \"*\"            \"*\"           \"*\"            \n",
      "          avg_time_blund avg_mat_imb_per_mv avg_book_moves\n",
      "1  ( 1 )  \" \"            \" \"                \" \"           \n",
      "2  ( 1 )  \" \"            \"*\"                \" \"           \n",
      "3  ( 1 )  \" \"            \"*\"                \" \"           \n",
      "4  ( 1 )  \" \"            \"*\"                \" \"           \n",
      "5  ( 1 )  \" \"            \"*\"                \"*\"           \n",
      "6  ( 1 )  \" \"            \"*\"                \"*\"           \n",
      "7  ( 1 )  \" \"            \"*\"                \"*\"           \n",
      "8  ( 1 )  \"*\"            \"*\"                \"*\"           \n",
      "9  ( 1 )  \"*\"            \"*\"                \"*\"           \n",
      "10  ( 1 ) \"*\"            \"*\"                \"*\"           \n",
      "11  ( 1 ) \"*\"            \"*\"                \"*\"           \n",
      "12  ( 1 ) \"*\"            \"*\"                \"*\"           \n",
      "13  ( 1 ) \"*\"            \"*\"                \"*\"           \n"
     ]
    }
   ],
   "source": [
    "# Forward selection\n",
    "elo_fwd <- regsubsets(elo ~ ., data = data_train, nvmax = n_features, method = \"forward\")\n",
    "elo_fwd_sum <- summary(elo_fwd)\n",
    "cat(\"Podsumowanie modelu forward stepwise:\\n\")\n",
    "print(elo_fwd_sum)\n",
    "\n",
    "# Backward elimination\n",
    "elo_back <- regsubsets(elo ~ ., data = data_train, nvmax = n_features, method = \"backward\")\n",
    "elo_back_sum <- summary(elo_back)\n",
    "cat(\"\\n\\nPodsumowanie modelu backward stepwise:\\n\")\n",
    "print(elo_back_sum)"
   ]
  },
  {
   "cell_type": "code",
   "execution_count": 75,
   "id": "3736efe4",
   "metadata": {
    "vscode": {
     "languageId": "r"
    }
   },
   "outputs": [
    {
     "name": "stdout",
     "output_type": "stream",
     "text": [
      "Selektcja krokowa FORWARD:\n",
      "Najlepszy model wg BIC: liczba zmiennych = 11 , BIC = -13053.89 \n",
      "Najlepszy model wg Cp: liczba zmiennych = 12 , Cp = 13.52 \n",
      "Najlepszy model wg poprawionego R²: liczba zmiennych = 13 , Adj. R² = 0.7316 \n",
      "\n",
      "Selektcja krokowa BACKWARD:\n",
      "Najlepszy model wg BIC: liczba zmiennych = 10 , BIC = -13062.11 \n",
      "Najlepszy model wg Cp: liczba zmiennych = 11 , Cp = 12.5 \n",
      "Najlepszy model wg poprawionego R²: liczba zmiennych = 13 , Adj. R² = 0.7316 \n",
      "\n",
      "Porównanie wybranych modeli (liczba zmiennych):\n",
      "BIC: forward = 11 , backward = 10 \n",
      "Cp: forward = 12 , backward = 11 \n",
      "Adjusted R²: forward = 13 , backward = 13 \n"
     ]
    }
   ],
   "source": [
    "bic_min_fwd <- which.min(elo_fwd_sum$bic)\n",
    "cp_min_fwd <- which.min(elo_fwd_sum$cp)\n",
    "adjr2_max_fwd <- which.max(elo_fwd_sum$adjr2)\n",
    "\n",
    "cat(\"Selektcja krokowa FORWARD:\\n\")\n",
    "cat(\"Najlepszy model wg BIC: liczba zmiennych =\", bic_min_fwd, \", BIC =\", round(elo_fwd_sum$bic[bic_min_fwd], 2), \"\\n\")\n",
    "cat(\"Najlepszy model wg Cp: liczba zmiennych =\", cp_min_fwd, \", Cp =\", round(elo_fwd_sum$cp[cp_min_fwd], 2), \"\\n\")\n",
    "cat(\"Najlepszy model wg poprawionego R²: liczba zmiennych =\", adjr2_max_fwd, \", Adj. R² =\", round(elo_fwd_sum$adjr2[adjr2_max_fwd], 4), \"\\n\\n\")\n",
    "\n",
    "# Find optimal models according to given criterion\n",
    "bic_min_back <- which.min(elo_back_sum$bic)\n",
    "cp_min_back <- which.min(elo_back_sum$cp)\n",
    "adjr2_max_back <- which.max(elo_back_sum$adjr2)\n",
    "\n",
    "cat(\"Selektcja krokowa BACKWARD:\\n\")\n",
    "cat(\"Najlepszy model wg BIC: liczba zmiennych =\", bic_min_back, \", BIC =\", round(elo_back_sum$bic[bic_min_back], 2), \"\\n\")\n",
    "cat(\"Najlepszy model wg Cp: liczba zmiennych =\", cp_min_back, \", Cp =\", round(elo_back_sum$cp[cp_min_back], 2), \"\\n\")\n",
    "cat(\"Najlepszy model wg poprawionego R²: liczba zmiennych =\", adjr2_max_back, \", Adj. R² =\", round(elo_back_sum$adjr2[adjr2_max_back], 4), \"\\n\\n\")\n",
    "\n",
    "# Compare selected models\n",
    "cat(\"Porównanie wybranych modeli (liczba zmiennych):\\n\")\n",
    "cat(\"BIC: forward =\", bic_min_fwd, \", backward =\", bic_min_back, \"\\n\")\n",
    "cat(\"Cp: forward =\", cp_min_fwd, \", backward =\", cp_min_back, \"\\n\")\n",
    "cat(\"Adjusted R²: forward =\", adjr2_max_fwd, \", backward =\", adjr2_max_back, \"\\n\")"
   ]
  },
  {
   "cell_type": "markdown",
   "id": "15fe5b98",
   "metadata": {},
   "source": [
    "Wyniki selekcji krokowej w przód i wstecz wskazują, że oba podejścia często wybierają podobną liczbę zmiennych jako optymalną według kryteriów $BIC$, $C_p$ i poprawionego $R²$, co świadczy o stabilności i spójności modelu. Jednak różnice między kryteriami pokazują kompromis między prostotą modelu (preferowaną przez $BIC$) a dopasowaniem (mierzone przez poprawione $R²$)."
   ]
  },
  {
   "cell_type": "markdown",
   "id": "fd132a70",
   "metadata": {},
   "source": [
    "### 5.5 Wybór modelu przy pomocy metody zbioru walidacyjnego\n",
    "\n",
    "Zaczynamy od podzielenia zbioru treningowego na dwa podzbiory: właściwy zbiór uczący i zbiór walidacyjny."
   ]
  },
  {
   "cell_type": "code",
   "execution_count": 61,
   "id": "e338cdab",
   "metadata": {
    "vscode": {
     "languageId": "r"
    }
   },
   "outputs": [],
   "source": [
    "n_samples <- nrow(data_train)\n",
    "\n",
    "train_idx <- sample(n_samples, n_samples / 2)\n",
    "val_idx <- setdiff(1:n_samples, train_idx)"
   ]
  },
  {
   "cell_type": "markdown",
   "id": "0fe82ec2",
   "metadata": {},
   "source": [
    "Teraz przeprowadzamy selekcję z użyciem zbioru uczącego, a ewaluowaną na zbiorze walidacyjnym."
   ]
  },
  {
   "cell_type": "code",
   "execution_count": 57,
   "id": "830342a8",
   "metadata": {
    "vscode": {
     "languageId": "r"
    }
   },
   "outputs": [],
   "source": [
    "elo_bs_v <- regsubsets(elo ~ ., data = data_train[train_idx,], nvmax = n_features)"
   ]
  },
  {
   "cell_type": "code",
   "execution_count": 58,
   "id": "0e4c4d5b",
   "metadata": {
    "vscode": {
     "languageId": "r"
    }
   },
   "outputs": [],
   "source": [
    "predict.regsubsets <- function(object, newdata, id, ...) {\n",
    "  model_formula <- as.formula(object$call[[2]])\n",
    "  mat <- model.matrix(model_formula, newdata)\n",
    "  coefs <- coef(object, id = id)\n",
    "  mat[, names(coefs)] %*% coefs\n",
    "}\n",
    "\n",
    "prediction_error <- function(i, model, subset) {\n",
    "  pred <- predict(model, data_train[subset,], id = i)\n",
    "  mean((data_train$elo[subset] - pred)^2)\n",
    "}"
   ]
  },
  {
   "cell_type": "code",
   "execution_count": null,
   "id": "8aedfb41",
   "metadata": {
    "vscode": {
     "languageId": "r"
    }
   },
   "outputs": [
    {
     "data": {
      "text/html": [
       "<style>\n",
       ".list-inline {list-style: none; margin:0; padding: 0}\n",
       ".list-inline>li {display: inline-block}\n",
       ".list-inline>li:not(:last-child)::after {content: \"\\00b7\"; padding: 0 .5ex}\n",
       "</style>\n",
       "<ol class=list-inline><li>64180.3346971945</li><li>55132.764523551</li><li>47401.1838669719</li><li>44521.1571929211</li><li>42789.2216625916</li><li>42669.1690663838</li><li>42451.415271352</li><li>42268.2692010688</li><li>42209.234176748</li><li>42136.3086188573</li><li>42142.3809786777</li><li>42145.0463314831</li><li>42145.142666161</li></ol>\n"
      ],
      "text/latex": [
       "\\begin{enumerate*}\n",
       "\\item 64180.3346971945\n",
       "\\item 55132.764523551\n",
       "\\item 47401.1838669719\n",
       "\\item 44521.1571929211\n",
       "\\item 42789.2216625916\n",
       "\\item 42669.1690663838\n",
       "\\item 42451.415271352\n",
       "\\item 42268.2692010688\n",
       "\\item 42209.234176748\n",
       "\\item 42136.3086188573\n",
       "\\item 42142.3809786777\n",
       "\\item 42145.0463314831\n",
       "\\item 42145.142666161\n",
       "\\end{enumerate*}\n"
      ],
      "text/markdown": [
       "1. 64180.3346971945\n",
       "2. 55132.764523551\n",
       "3. 47401.1838669719\n",
       "4. 44521.1571929211\n",
       "5. 42789.2216625916\n",
       "6. 42669.1690663838\n",
       "7. 42451.415271352\n",
       "8. 42268.2692010688\n",
       "9. 42209.234176748\n",
       "10. 42136.3086188573\n",
       "11. 42142.3809786777\n",
       "12. 42145.0463314831\n",
       "13. 42145.142666161\n",
       "\n",
       "\n"
      ],
      "text/plain": [
       " [1] 64180.33 55132.76 47401.18 44521.16 42789.22 42669.17 42451.42 42268.27\n",
       " [9] 42209.23 42136.31 42142.38 42145.05 42145.14"
      ]
     },
     "metadata": {},
     "output_type": "display_data"
    }
   ],
   "source": [
    "val_errors <- sapply(1:n_features, prediction_error, model = elo_bs_v, subset = val_idx)\n",
    "val_errors"
   ]
  },
  {
   "cell_type": "code",
   "execution_count": 66,
   "id": "43a7caf1",
   "metadata": {
    "vscode": {
     "languageId": "r"
    }
   },
   "outputs": [
    {
     "name": "stdout",
     "output_type": "stream",
     "text": [
      "Model optymalny zawiera 10 zmiennych.\n"
     ]
    }
   ],
   "source": [
    "optimal_num_vars <- which.min(val_errors)\n",
    "cat(\"Model optymalny zawiera\", optimal_num_vars, \"zmiennych.\\n\")"
   ]
  },
  {
   "cell_type": "markdown",
   "id": "a2f27d36",
   "metadata": {},
   "source": [
    "Po znalezieniu optymalnej liczby zmiennych, trenujemy optymalny model regresji, używając wszystkich przykładów dostępnych w zbiorze treningowym:"
   ]
  },
  {
   "cell_type": "code",
   "execution_count": 72,
   "id": "65f2d99b",
   "metadata": {
    "vscode": {
     "languageId": "r"
    }
   },
   "outputs": [
    {
     "data": {
      "text/plain": [
       "\n",
       "\n",
       "Table: Współczynniki w najlepszym modelu (na podstawie oceny na zbiorze walidacyjnym)\n",
       "\n",
       "|Variable           | Coefficient|\n",
       "|:------------------|-----------:|\n",
       "|(Intercept)        | 1848.259121|\n",
       "|avg_moves          |   15.898998|\n",
       "|avg_cp_loss        |   -4.749684|\n",
       "|avg_inacc          |  -18.675039|\n",
       "|avg_mist           |   17.549193|\n",
       "|avg_blund          | -120.851638|\n",
       "|frac_time_loss     |  114.836646|\n",
       "|avg_time_good      |  -13.799206|\n",
       "|avg_time_blund     |    2.065997|\n",
       "|avg_mat_imb_per_mv |  -72.468619|\n",
       "|avg_book_moves     |   49.324419|"
      ]
     },
     "metadata": {},
     "output_type": "display_data"
    }
   ],
   "source": [
    "final_model <- regsubsets(elo ~ ., data = data_train, nvmax = optimal_num_vars, method = \"backward\")\n",
    "final_summary <- summary(final_model)\n",
    "\n",
    "coefs <- coef(final_model, id = optimal_num_vars)\n",
    "coefs_df <- data.frame(\n",
    "  Variable = names(coefs),\n",
    "  Coefficient = as.numeric(coefs)\n",
    ")\n",
    "\n",
    "kable(coefs_df, caption = \"Współczynniki w najlepszym modelu (na podstawie oceny na zbiorze walidacyjnym)\")"
   ]
  },
  {
   "cell_type": "markdown",
   "id": "c22280b5",
   "metadata": {},
   "source": [
    "Jest to model tożsamy z tym, jaki uzyskaliśmy wcześniej na bazie porównań z użyciem metryki BIC."
   ]
  },
  {
   "cell_type": "markdown",
   "id": "0e307127",
   "metadata": {},
   "source": [
    "### 5.6 Wybór modelu przy pomocy k-krotnej walidacji krzyżowej\n",
    "\n",
    "Wybór modelu z użyciem k-krotnej walidacji krzyżowej jest uogólnieniem podejścia opartego na jednym zbiorze walidacyjnym, ponieważ zamiast oceniać model tylko na jednej, stałej części danych, k-krotna walidacja dzieli dane na k różnych podzbiorów i kolejno używa każdego z nich jako zbioru walidacyjnego, podczas gdy pozostałe służą do trenowania modelu. Dzięki temu ocena modelu jest bardziej stabilna i mniej podatna na losowy podział danych, co prowadzi do bardziej wiarygodnego wyboru optymalnego modelu."
   ]
  },
  {
   "cell_type": "code",
   "execution_count": 77,
   "id": "47fbfaa1",
   "metadata": {
    "vscode": {
     "languageId": "r"
    }
   },
   "outputs": [],
   "source": [
    "k <- 10\n",
    "folds <- sample(1:k, n_samples, replace = TRUE)\n",
    "\n",
    "val_err <- NULL\n",
    "for (j in 1:k) {\n",
    "  fit_bs <- regsubsets(elo ~ ., data = data_train[folds != j,], nvmax = n_features)\n",
    "  err <- sapply(1:n_features, prediction_error, model = fit_bs, subset = (folds == j))\n",
    "  val_err <- rbind(val_err, err)\n",
    "}"
   ]
  },
  {
   "cell_type": "code",
   "execution_count": 81,
   "id": "81c7be28",
   "metadata": {
    "vscode": {
     "languageId": "r"
    }
   },
   "outputs": [
    {
     "data": {
      "text/plain": [
       "\n",
       "\n",
       "Table: Błąd walidacji w zależności od liczby zmiennych\n",
       "\n",
       "| LiczbaZmiennych| BladWalidacji|\n",
       "|---------------:|-------------:|\n",
       "|               1|      62796.33|\n",
       "|               2|      53806.53|\n",
       "|               3|      46173.29|\n",
       "|               4|      43155.91|\n",
       "|               5|      41618.62|\n",
       "|               6|      41422.53|\n",
       "|               7|      41215.69|\n",
       "|               8|      41102.15|\n",
       "|               9|      41037.22|\n",
       "|              10|      40992.04|\n",
       "|              11|      41006.61|\n",
       "|              12|      41010.87|\n",
       "|              13|      40995.39|"
      ]
     },
     "metadata": {},
     "output_type": "display_data"
    }
   ],
   "source": [
    "cv_errors_df <- data.frame(\n",
    "  LiczbaZmiennych = 1:length(cv_errors),\n",
    "  BladWalidacji = cv_errors\n",
    ")\n",
    "\n",
    "kable(cv_errors_df, caption = \"Błąd walidacji w zależności od liczby zmiennych\")"
   ]
  },
  {
   "cell_type": "markdown",
   "id": "dc733198",
   "metadata": {},
   "source": [
    "Widzimy, iż ponownie optymalnym modelem okazuje się być model z 10 zmiennymi niezależnymi. Ponieważ model ten był już wcześniej kilkukrotnie prezentowany, nie ma potrzeby tworzyć go po raz kolejny. Oba podejścia – BIC, które karze za nadmierną złożoność modelu, oraz k-krotna walidacja krzyżowa, która ocenia model na niezależnych podzbiorach danych – wskazują na podobny kompromis między dopasowaniem a prostotą modelu. Innymi słowy, potwierdza to stabilność i wiarygodność wyboru optymalnej liczby cech, sugerując, że wybrany model dobrze generalizuje na nowe dane i nie jest ani zbyt prosty, ani zbyt złożony."
   ]
  }
 ],
 "metadata": {
  "kernelspec": {
   "display_name": "R",
   "language": "R",
   "name": "ir"
  },
  "language_info": {
   "codemirror_mode": "r",
   "file_extension": ".r",
   "mimetype": "text/x-r-source",
   "name": "R",
   "pygments_lexer": "r",
   "version": "4.4.3"
  }
 },
 "nbformat": 4,
 "nbformat_minor": 5
}

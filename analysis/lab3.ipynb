{
 "cells": [
  {
   "cell_type": "markdown",
   "id": "a40f501f",
   "metadata": {},
   "source": [
    "## 4. Walidacja krzyżowa i bootstrap\n"
   ]
  },
  {
   "cell_type": "code",
   "execution_count": 35,
   "id": "15b07146",
   "metadata": {
    "vscode": {
     "languageId": "r"
    }
   },
   "outputs": [],
   "source": [
    "library(yaml)\n",
    "library(ggplot2)\n",
    "library(boot)\n",
    "library(dplyr)\n",
    "library(tidyr)\n",
    "\n",
    "# Global options\n",
    "options(repr.plot.width = 10, repr.plot.height = 10)"
   ]
  },
  {
   "cell_type": "markdown",
   "id": "42dcf5dd",
   "metadata": {},
   "source": [
    "### 4.1 Wczytywanie konfiguracji (*config.yaml*):"
   ]
  },
  {
   "cell_type": "code",
   "execution_count": 20,
   "id": "58472924",
   "metadata": {
    "vscode": {
     "languageId": "r"
    }
   },
   "outputs": [],
   "source": [
    "config <- yaml.load_file(\"../config.yaml\")\n",
    "\n",
    "train_filepath <- file.path(\"..\", config$paths$data_train)\n",
    "test_filepath <- file.path(\"..\", config$paths$data_test)"
   ]
  },
  {
   "cell_type": "markdown",
   "id": "288147ec",
   "metadata": {},
   "source": [
    "### 4.2 Przygotowanie danych"
   ]
  },
  {
   "cell_type": "markdown",
   "id": "31c60253",
   "metadata": {},
   "source": [
    "Analogicznie jak poprzednio, wczytujemy zbiory treningowy oraz testowy usuwając z nich nieistotne cechy. Tym razem jednak zachowujemy oryginalną zmienną docelową ```elo``` dla zadania regresji."
   ]
  },
  {
   "cell_type": "code",
   "execution_count": 21,
   "id": "5e49f4b8",
   "metadata": {
    "vscode": {
     "languageId": "r"
    }
   },
   "outputs": [],
   "source": [
    "data_train <- read.csv(train_filepath)\n",
    "data_test <- read.csv(test_filepath)\n",
    "\n",
    "data_train$name <- NULL\n",
    "data_train$games <- NULL\n",
    "\n",
    "data_test$name <- NULL\n",
    "data_test$games <- NULL"
   ]
  },
  {
   "cell_type": "markdown",
   "id": "888c6b44",
   "metadata": {},
   "source": [
    "### 4.3 Walidacja krzyżowa"
   ]
  },
  {
   "cell_type": "markdown",
   "id": "f2205443",
   "metadata": {},
   "source": [
    "Dzielimy zbiór treningowy na dwie równe części:\n",
    "- Faktyczny zbiór treningowy: ```train_set```\n",
    "- Zbiór walidacyjny: ```validation_set```"
   ]
  },
  {
   "cell_type": "code",
   "execution_count": 22,
   "id": "68415985",
   "metadata": {
    "vscode": {
     "languageId": "r"
    }
   },
   "outputs": [],
   "source": [
    "set.seed(410375)    # My student index\n",
    "\n",
    "n_samples <- nrow(data_train)\n",
    "train_idx <- sample(n_samples, n_samples / 2)\n",
    "\n",
    "train_set <- data_train[train_idx,]\n",
    "validation_set <- data_train[-train_idx,]"
   ]
  },
  {
   "cell_type": "markdown",
   "id": "30b5521f",
   "metadata": {},
   "source": [
    "Analogicznie jak w części poświęconej regresji liniowej, dopasowujemy prosty model liniowy dla jednej zmiennej niezależnej: ```avg_cp_loss```. Tym razem jednak ewaluacji (obliczenie *MSE*) dokonujemy na wydzielonym zbiorze walidacyjnym."
   ]
  },
  {
   "cell_type": "code",
   "execution_count": 23,
   "id": "85db6269",
   "metadata": {
    "vscode": {
     "languageId": "r"
    }
   },
   "outputs": [
    {
     "name": "stdout",
     "output_type": "stream",
     "text": [
      "Training set MSE:\n",
      "63218.58 \n",
      "\n",
      "Validation set MSE:\n",
      "62456.77 \n"
     ]
    }
   ],
   "source": [
    "fit_simple <- lm(elo ~ avg_cp_loss, data = train_set)\n",
    "\n",
    "# Evaluate (validation set)\n",
    "# - MSE metric\n",
    "cat(\"Training set MSE:\\n\")\n",
    "mse <- mean((train_set$elo - predict(fit_simple, train_set))^2)\n",
    "cat(mse, \"\\n\\n\")\n",
    "\n",
    "cat(\"Validation set MSE:\\n\")\n",
    "mse <- mean((validation_set$elo - predict(fit_simple, validation_set))^2)\n",
    "cat(mse, \"\\n\")"
   ]
  },
  {
   "cell_type": "markdown",
   "id": "d26f1d71",
   "metadata": {},
   "source": [
    "Zauważmy, iż błędy na zbiorze treningowym oraz walidacyjnym są podobne, nawet nieco niższy uzyskujemy na zbiorze walidacyjnym. Świadczy to o dobrej generalizacji uzyskanego modelu regresji liniowej.\n",
    "\n",
    "Zgodnie ze wzorem: $$\\text{MSE} = \\frac{1}{n}\\sum_{i=1}^{n}\\bigl(y_i - \\hat{y}_i\\bigr)^2$$ błąd rzędu $\\text{MSE} \\approx 62500$ uzyskiwany jest przy średniej pomyłce rzędu $250$ punktów rankingowych na gracza.\n",
    "\n",
    "Teraz testujemy analogiczne podejście, ale dla regresji wielomianowej - dla wielomianów różnych stopni:"
   ]
  },
  {
   "cell_type": "code",
   "execution_count": 24,
   "id": "d01836d6",
   "metadata": {
    "vscode": {
     "languageId": "r"
    }
   },
   "outputs": [
    {
     "name": "stdout",
     "output_type": "stream",
     "text": [
      "Polynomial degree: 2\n",
      "------------------------------\n",
      "Training MSE   : 61678.7694\n",
      "Validation MSE : 61280.6854\n",
      "\n",
      "Polynomial degree: 3\n",
      "------------------------------\n",
      "Training MSE   : 61463.2613\n",
      "Validation MSE : 61094.7370\n",
      "\n",
      "Polynomial degree: 4\n",
      "------------------------------\n",
      "Training MSE   : 61217.9011\n",
      "Validation MSE : 61024.0028\n",
      "\n",
      "Polynomial degree: 5\n",
      "------------------------------\n",
      "Training MSE   : 61136.2248\n",
      "Validation MSE : 61079.2057\n",
      "\n"
     ]
    }
   ],
   "source": [
    "for (i in 2:5) {\n",
    "    fit_poly <- lm(elo ~ poly(avg_cp_loss, degree = i), data = train_set)\n",
    "    \n",
    "    train_mse <- mean((train_set$elo       - predict(fit_poly, train_set))      ^ 2)\n",
    "    val_mse   <- mean((validation_set$elo  - predict(fit_poly, validation_set)) ^ 2)\n",
    "    \n",
    "    cat(\n",
    "        sprintf(\n",
    "            \"Polynomial degree: %d\\n------------------------------\\nTraining MSE   : %.4f\\nValidation MSE : %.4f\\n\\n\",\n",
    "            i, train_mse, val_mse\n",
    "        )\n",
    "    )\n",
    "}"
   ]
  },
  {
   "cell_type": "markdown",
   "id": "d4153cb3",
   "metadata": {},
   "source": [
    "Jak widać wartości błędu MSE dla zbioru treningowego nieustannie (choć nieznacznie) maleją wraz ze wzrostem stopnia wielomianu. Dla zbioru walidacyjnego widzimy wzrost poziomu błędu przy wielomianie stopnia 5. Może to sugerować drobne przeuczenie, choć różnice są na tyle małe że ciężko wyciągnąć z nich poważniejsze wnioski.\n",
    "\n",
    "Teraz powtarzamy poprzednie obliczenia, ale dla innego zbioru walidacyjnego (wyznaczonego przez inny seed)."
   ]
  },
  {
   "cell_type": "code",
   "execution_count": 25,
   "id": "baebac69",
   "metadata": {
    "vscode": {
     "languageId": "r"
    }
   },
   "outputs": [],
   "source": [
    "set.seed(410376)    # (Not) My student index\n",
    "\n",
    "train_idx <- sample(n_samples, n_samples / 2)\n",
    "\n",
    "train_set <- data_train[train_idx,]\n",
    "validation_set <- data_train[-train_idx,]"
   ]
  },
  {
   "cell_type": "code",
   "execution_count": 26,
   "id": "9a67227a",
   "metadata": {
    "vscode": {
     "languageId": "r"
    }
   },
   "outputs": [],
   "source": [
    "degree_max <- 5\n",
    "train_mse <- rep(0, times = degree_max)\n",
    "validation_mse <- rep(0, times = degree_max)\n",
    "\n",
    "for (i in 1:degree_max) {\n",
    "  fit_poly <- lm(elo ~ poly(avg_cp_loss, degree = i), data = train_set)\n",
    "    \n",
    "  train_mse[i] <- mean((train_set$elo       - predict(fit_poly, train_set))      ^ 2)\n",
    "  validation_mse[i]   <- mean((validation_set$elo  - predict(fit_poly, validation_set)) ^ 2)\n",
    "}"
   ]
  },
  {
   "cell_type": "code",
   "execution_count": 27,
   "id": "5724c24a",
   "metadata": {
    "vscode": {
     "languageId": "r"
    }
   },
   "outputs": [
    {
     "data": {
      "image/png": "[encoded data removed]",
      "text/plain": [
       "plot without title"
      ]
     },
     "metadata": {
      "image/png": {
       "height": 600,
       "width": 600
      }
     },
     "output_type": "display_data"
    }
   ],
   "source": [
    "df <- data.frame(\n",
    "  degree         = 1:degree_max,\n",
    "  train_mse      = train_mse,\n",
    "  validation_mse = validation_mse\n",
    ")\n",
    "\n",
    "ggplot(df, aes(x = degree)) +\n",
    "  geom_line(aes(y = train_mse, color = \"Trening\"), size = 1.2) +\n",
    "  geom_point(aes(y = train_mse, color = \"Trening\"), size = 3) +\n",
    "  geom_line(aes(y = validation_mse, color = \"Walidacja\"), size = 1.2, linetype = \"dashed\") +\n",
    "  geom_point(aes(y = validation_mse, color = \"Walidacja\"), size = 3, shape = 17) +\n",
    "  scale_color_manual(values = c(\"Trening\" = \"#1f77b4\", \"Walidacja\" = \"#e31a1c\")) +\n",
    "  labs(\n",
    "    x = \"Stopień wielomianu\",\n",
    "    y = \"Błąd średniokwadratowy (MSE)\",\n",
    "    color = \"Zbiór\",\n",
    "    title = \"Porównanie błędu MSE dla różnych stopni wielomianu\"\n",
    "  ) +\n",
    "  theme_minimal(base_size = 14) +\n",
    "  theme(\n",
    "    plot.title = element_text(face = \"bold\", hjust = 0.5),\n",
    "    legend.position = \"top\",\n",
    "    legend.title = element_text(face = \"bold\")\n",
    "  )"
   ]
  },
  {
   "cell_type": "markdown",
   "id": "29610312",
   "metadata": {},
   "source": [
    "Możemy zaobserwować to samo co w poprzednim przypadku - nieznaczny spadek wartości błędu wraz ze wzrostem stopnia wielomianu, zarówno na zbiorze treningowym jak i walidacyjnym."
   ]
  },
  {
   "cell_type": "markdown",
   "id": "d1806ccc",
   "metadata": {},
   "source": [
    "### 4.4 Walidacja krzyżowa bez jednego (leave-one-out)\n",
    "\n",
    "Ponieważ *Leave-One-Out Cross-Validation (LOOCV)* jest metodą obciążającą wydajnościowo (dla każdego z $n$ przykładów w zbiorze data_train, trenuje nowy model na $n - 1$ przykładach), zaczynamy od zredukowania rozmiaru zbioru treningowego:"
   ]
  },
  {
   "cell_type": "code",
   "execution_count": 28,
   "id": "08c57bc9",
   "metadata": {
    "vscode": {
     "languageId": "r"
    }
   },
   "outputs": [],
   "source": [
    "reduced_size <- 1000\n",
    "\n",
    "train_idx <- sample(n_samples, reduced_size)\n",
    "data_train_reduced <- data_train[train_idx,]"
   ]
  },
  {
   "cell_type": "code",
   "execution_count": 29,
   "id": "c1b8a0af",
   "metadata": {
    "vscode": {
     "languageId": "r"
    }
   },
   "outputs": [
    {
     "data": {
      "text/html": [
       "<style>\n",
       ".list-inline {list-style: none; margin:0; padding: 0}\n",
       ".list-inline>li {display: inline-block}\n",
       ".list-inline>li:not(:last-child)::after {content: \"\\00b7\"; padding: 0 .5ex}\n",
       "</style>\n",
       "<ol class=list-inline><li>59529.7132224301</li><li>58473.9538494006</li><li>58485.9103168606</li><li>58452.9939874809</li><li>58900.7540154598</li></ol>\n"
      ],
      "text/latex": [
       "\\begin{enumerate*}\n",
       "\\item 59529.7132224301\n",
       "\\item 58473.9538494006\n",
       "\\item 58485.9103168606\n",
       "\\item 58452.9939874809\n",
       "\\item 58900.7540154598\n",
       "\\end{enumerate*}\n"
      ],
      "text/markdown": [
       "1. 59529.7132224301\n",
       "2. 58473.9538494006\n",
       "3. 58485.9103168606\n",
       "4. 58452.9939874809\n",
       "5. 58900.7540154598\n",
       "\n",
       "\n"
      ],
      "text/plain": [
       "[1] 59529.71 58473.95 58485.91 58452.99 58900.75"
      ]
     },
     "metadata": {},
     "output_type": "display_data"
    }
   ],
   "source": [
    "compute_loocv_mse <- function(degree) {\n",
    "  elo_glm <- glm(elo ~ poly(avg_cp_loss, degree), data = data_train_reduced)\n",
    "  cv.glm(data_train_reduced, elo_glm)$delta[1]\n",
    "}\n",
    "\n",
    "mse <- sapply(1:degree_max, compute_loocv_mse)\n",
    "mse"
   ]
  },
  {
   "cell_type": "code",
   "execution_count": 30,
   "id": "e17521a8",
   "metadata": {
    "vscode": {
     "languageId": "r"
    }
   },
   "outputs": [
    {
     "data": {
      "image/png": "[encoded data removed]",
      "text/plain": [
       "plot without title"
      ]
     },
     "metadata": {
      "image/png": {
       "height": 600,
       "width": 600
      }
     },
     "output_type": "display_data"
    }
   ],
   "source": [
    "df <- data.frame(\n",
    "  degree = 1:degree_max,\n",
    "  mse    = mse\n",
    ")\n",
    "\n",
    "ggplot(df, aes(x = degree, y = mse)) +\n",
    "  geom_line(color = \"#1f77b4\", size = 1.2) +\n",
    "  geom_point(color = \"#1f77b4\", size = 3) +\n",
    "  labs(\n",
    "    title = \"LOOCV MSE dla różnych stopni wielomianu\",\n",
    "    x = \"Stopień wielomianu\",\n",
    "    y = \"LOOCV MSE\"\n",
    "  ) +\n",
    "  theme_minimal(base_size = 14) +\n",
    "  theme(\n",
    "    plot.title = element_text(face = \"bold\", hjust = 0.5),\n",
    "    axis.title = element_text(face = \"bold\")\n",
    "  )"
   ]
  },
  {
   "cell_type": "markdown",
   "id": "8d45abda",
   "metadata": {},
   "source": [
    "Widzimy, iż w tym przypadku najmniejszy błąd uzyskujemy dla wielomianu stopnia $p = 3$, choć trzeba zaznaczyć, że różnice są jeszcze mniejsze niż w przypadku standardowej walidacji krzyżowej."
   ]
  },
  {
   "cell_type": "markdown",
   "id": "0bd5c0f0",
   "metadata": {},
   "source": [
    "### 4.5 $k$-krotna walidacja krzyżowa\n",
    "\n",
    "Podobnie jak poprzednio, wykorzystujemy zredukowany zbiór treningowy."
   ]
  },
  {
   "cell_type": "code",
   "execution_count": 31,
   "id": "7d7ef312",
   "metadata": {
    "vscode": {
     "languageId": "r"
    }
   },
   "outputs": [
    {
     "data": {
      "text/html": [
       "<style>\n",
       ".list-inline {list-style: none; margin:0; padding: 0}\n",
       ".list-inline>li {display: inline-block}\n",
       ".list-inline>li:not(:last-child)::after {content: \"\\00b7\"; padding: 0 .5ex}\n",
       "</style>\n",
       "<ol class=list-inline><li>59442.7718179466</li><li>58415.266591801</li><li>58604.984624565</li><li>58352.9537615723</li><li>58579.1445822242</li></ol>\n"
      ],
      "text/latex": [
       "\\begin{enumerate*}\n",
       "\\item 59442.7718179466\n",
       "\\item 58415.266591801\n",
       "\\item 58604.984624565\n",
       "\\item 58352.9537615723\n",
       "\\item 58579.1445822242\n",
       "\\end{enumerate*}\n"
      ],
      "text/markdown": [
       "1. 59442.7718179466\n",
       "2. 58415.266591801\n",
       "3. 58604.984624565\n",
       "4. 58352.9537615723\n",
       "5. 58579.1445822242\n",
       "\n",
       "\n"
      ],
      "text/plain": [
       "[1] 59442.77 58415.27 58604.98 58352.95 58579.14"
      ]
     },
     "metadata": {},
     "output_type": "display_data"
    }
   ],
   "source": [
    "compute_kcv_mse <- function(degree, k) {\n",
    "  elo_glm <- glm(elo ~ poly(avg_cp_loss, degree), data = data_train_reduced)\n",
    "  cv.glm(data_train_reduced, elo_glm, K = k)$delta[1]\n",
    "}\n",
    "\n",
    "mse <- sapply(1:degree_max, compute_kcv_mse, k = 10)\n",
    "mse"
   ]
  },
  {
   "cell_type": "code",
   "execution_count": 32,
   "id": "aff3a09e",
   "metadata": {
    "vscode": {
     "languageId": "r"
    }
   },
   "outputs": [
    {
     "data": {
      "text/html": [
       "<table class=\"dataframe\">\n",
       "<caption>A matrix: 5 × 10 of type dbl</caption>\n",
       "<tbody>\n",
       "\t<tr><td>59434.32</td><td>59523.17</td><td>59596.38</td><td>59482.07</td><td>59656.79</td><td>59679.71</td><td>59562.51</td><td>59487.35</td><td>59489.00</td><td>59630.82</td></tr>\n",
       "\t<tr><td>58341.73</td><td>58444.22</td><td>58357.72</td><td>58553.17</td><td>58540.16</td><td>58407.51</td><td>58405.18</td><td>58550.97</td><td>58473.10</td><td>58496.45</td></tr>\n",
       "\t<tr><td>58488.44</td><td>58487.48</td><td>58551.82</td><td>58509.92</td><td>58491.34</td><td>58541.86</td><td>58813.16</td><td>58754.82</td><td>58288.85</td><td>58417.57</td></tr>\n",
       "\t<tr><td>58576.77</td><td>58438.69</td><td>58516.82</td><td>58665.07</td><td>58348.97</td><td>58372.54</td><td>58520.42</td><td>58576.82</td><td>58399.27</td><td>58345.46</td></tr>\n",
       "\t<tr><td>59291.18</td><td>58822.30</td><td>59011.86</td><td>58984.83</td><td>58968.77</td><td>58756.52</td><td>59376.73</td><td>59173.80</td><td>59748.16</td><td>59363.47</td></tr>\n",
       "</tbody>\n",
       "</table>\n"
      ],
      "text/latex": [
       "A matrix: 5 × 10 of type dbl\n",
       "\\begin{tabular}{llllllllll}\n",
       "\t 59434.32 & 59523.17 & 59596.38 & 59482.07 & 59656.79 & 59679.71 & 59562.51 & 59487.35 & 59489.00 & 59630.82\\\\\n",
       "\t 58341.73 & 58444.22 & 58357.72 & 58553.17 & 58540.16 & 58407.51 & 58405.18 & 58550.97 & 58473.10 & 58496.45\\\\\n",
       "\t 58488.44 & 58487.48 & 58551.82 & 58509.92 & 58491.34 & 58541.86 & 58813.16 & 58754.82 & 58288.85 & 58417.57\\\\\n",
       "\t 58576.77 & 58438.69 & 58516.82 & 58665.07 & 58348.97 & 58372.54 & 58520.42 & 58576.82 & 58399.27 & 58345.46\\\\\n",
       "\t 59291.18 & 58822.30 & 59011.86 & 58984.83 & 58968.77 & 58756.52 & 59376.73 & 59173.80 & 59748.16 & 59363.47\\\\\n",
       "\\end{tabular}\n"
      ],
      "text/markdown": [
       "\n",
       "A matrix: 5 × 10 of type dbl\n",
       "\n",
       "| 59434.32 | 59523.17 | 59596.38 | 59482.07 | 59656.79 | 59679.71 | 59562.51 | 59487.35 | 59489.00 | 59630.82 |\n",
       "| 58341.73 | 58444.22 | 58357.72 | 58553.17 | 58540.16 | 58407.51 | 58405.18 | 58550.97 | 58473.10 | 58496.45 |\n",
       "| 58488.44 | 58487.48 | 58551.82 | 58509.92 | 58491.34 | 58541.86 | 58813.16 | 58754.82 | 58288.85 | 58417.57 |\n",
       "| 58576.77 | 58438.69 | 58516.82 | 58665.07 | 58348.97 | 58372.54 | 58520.42 | 58576.82 | 58399.27 | 58345.46 |\n",
       "| 59291.18 | 58822.30 | 59011.86 | 58984.83 | 58968.77 | 58756.52 | 59376.73 | 59173.80 | 59748.16 | 59363.47 |\n",
       "\n"
      ],
      "text/plain": [
       "     [,1]     [,2]     [,3]     [,4]     [,5]     [,6]     [,7]     [,8]    \n",
       "[1,] 59434.32 59523.17 59596.38 59482.07 59656.79 59679.71 59562.51 59487.35\n",
       "[2,] 58341.73 58444.22 58357.72 58553.17 58540.16 58407.51 58405.18 58550.97\n",
       "[3,] 58488.44 58487.48 58551.82 58509.92 58491.34 58541.86 58813.16 58754.82\n",
       "[4,] 58576.77 58438.69 58516.82 58665.07 58348.97 58372.54 58520.42 58576.82\n",
       "[5,] 59291.18 58822.30 59011.86 58984.83 58968.77 58756.52 59376.73 59173.80\n",
       "     [,9]     [,10]   \n",
       "[1,] 59489.00 59630.82\n",
       "[2,] 58473.10 58496.45\n",
       "[3,] 58288.85 58417.57\n",
       "[4,] 58399.27 58345.46\n",
       "[5,] 59748.16 59363.47"
      ]
     },
     "metadata": {},
     "output_type": "display_data"
    }
   ],
   "source": [
    "mse10 <- replicate(10, sapply(1:degree_max, compute_kcv_mse, k = 10))\n",
    "mse10"
   ]
  },
  {
   "cell_type": "markdown",
   "id": "487621d2",
   "metadata": {},
   "source": [
    "Na podstawie 10-krotnej walidacji krzyżowej, powtórzonej dziesięć razy dla każdego stopnia wielomianu, można stwierdzić, że wartości błędu średniokwadratowego (MSE) są stabilne — odchylenia pomiędzy powtórzeniami są niewielkie, co świadczy o wiarygodności wyników. Średni MSE osiąga minimum dla stopni w okolicach 3–4, co sugeruje, że modele o tych stopniach najlepiej dopasowują się do danych bez nadmiernego przeuczenia. Dla wyższych stopni (powyżej 5) nie obserwuje się dalszej poprawy błędu, a nawet widoczny jest lekki wzrost MSE, co wskazuje na ryzyko przeuczenia modelu."
   ]
  },
  {
   "cell_type": "code",
   "execution_count": 38,
   "id": "04ad077b",
   "metadata": {
    "vscode": {
     "languageId": "r"
    }
   },
   "outputs": [
    {
     "data": {
      "image/png": "[encoded data removed]",
      "text/plain": [
       "plot without title"
      ]
     },
     "metadata": {
      "image/png": {
       "height": 600,
       "width": 600
      }
     },
     "output_type": "display_data"
    }
   ],
   "source": [
    "degree_max <- nrow(mse10)\n",
    "rep_count <- ncol(mse10)\n",
    "\n",
    "df <- as.data.frame(mse10)\n",
    "df$degree <- 1:degree_max\n",
    "\n",
    "df_long <- pivot_longer(df, cols = -degree,\n",
    "                        names_to = \"rep\", values_to = \"mse\")\n",
    "\n",
    "summary_df <- df_long %>%\n",
    "  group_by(degree) %>%\n",
    "  summarise(\n",
    "    mean_mse = mean(mse),\n",
    "    sd_mse = sd(mse),\n",
    "    .groups = \"drop\"\n",
    "  )\n",
    "\n",
    "ggplot(summary_df, aes(x = degree, y = mean_mse)) +\n",
    "  geom_line(color = \"#1f77b4\", size = 1.2) +\n",
    "  geom_point(size = 3, color = \"#1f77b4\") +\n",
    "  geom_errorbar(aes(ymin = mean_mse - sd_mse, ymax = mean_mse + sd_mse),\n",
    "                width = 0.2, color = \"gray40\") +\n",
    "  labs(\n",
    "    title = \"Średni błąd MSE (10× 10-fold CV)\",\n",
    "    x = \"Stopień wielomianu\",\n",
    "    y = \"MSE ± SD\"\n",
    "  ) +\n",
    "  theme_minimal(base_size = 14)"
   ]
  },
  {
   "cell_type": "markdown",
   "id": "d6ff0251",
   "metadata": {},
   "source": [
    "Podobnie jak w przypadku LOOCV, najlepiej sprawdzają się wielomiany o umiarkowanym stopniu. Warto również zauważyć, iż zwiększanie stopnia wielomianu prowadzi do zwiększania wariancji (żeby być precyzyjnym - właściwie odchylenia standardowego) błędów MSE uzyskiwanych dla poszczególnych foldów walidacji krzyżowej. Świadczy to o rosnącej niestabilności modelu, który staje się coraz bardziej wrażliwy na konkretne podziały danych treningowych. Może to wskazywać na przeuczenie, gdzie model dopasowuje się do szumu w danych zamiast do rzeczywistego trendu."
   ]
  },
  {
   "cell_type": "markdown",
   "id": "87f5b51e",
   "metadata": {},
   "source": [
    "### 4.6 Bootstrap"
   ]
  },
  {
   "cell_type": "code",
   "execution_count": 39,
   "id": "0af202fd",
   "metadata": {
    "vscode": {
     "languageId": "r"
    }
   },
   "outputs": [],
   "source": [
    "lm_coefs <- function(data, index = 1:nrow(data)) {\n",
    "  coef(lm(elo ~ avg_cp_loss, data = data, subset = index))\n",
    "}"
   ]
  },
  {
   "cell_type": "code",
   "execution_count": 43,
   "id": "8c9bae4c",
   "metadata": {
    "vscode": {
     "languageId": "r"
    }
   },
   "outputs": [
    {
     "name": "stdout",
     "output_type": "stream",
     "text": [
      "Original dataset results:\n"
     ]
    },
    {
     "data": {
      "text/html": [
       "<style>\n",
       ".dl-inline {width: auto; margin:0; padding: 0}\n",
       ".dl-inline>dt, .dl-inline>dd {float: none; width: auto; display: inline-block}\n",
       ".dl-inline>dt::after {content: \":\\0020\"; padding-right: .5ex}\n",
       ".dl-inline>dt:not(:first-of-type) {padding-left: .5ex}\n",
       "</style><dl class=dl-inline><dt>(Intercept)</dt><dd>2493.99740383225</dd><dt>avg_cp_loss</dt><dd>-11.7440664265808</dd></dl>\n"
      ],
      "text/latex": [
       "\\begin{description*}\n",
       "\\item[(Intercept)] 2493.99740383225\n",
       "\\item[avg\\textbackslash{}\\_cp\\textbackslash{}\\_loss] -11.7440664265808\n",
       "\\end{description*}\n"
      ],
      "text/markdown": [
       "(Intercept)\n",
       ":   2493.99740383225avg_cp_loss\n",
       ":   -11.7440664265808\n",
       "\n"
      ],
      "text/plain": [
       "(Intercept) avg_cp_loss \n",
       " 2493.99740   -11.74407 "
      ]
     },
     "metadata": {},
     "output_type": "display_data"
    },
    {
     "name": "stdout",
     "output_type": "stream",
     "text": [
      "\n",
      "Bootstraped dataset results:\n"
     ]
    },
    {
     "data": {
      "text/html": [
       "<style>\n",
       ".dl-inline {width: auto; margin:0; padding: 0}\n",
       ".dl-inline>dt, .dl-inline>dd {float: none; width: auto; display: inline-block}\n",
       ".dl-inline>dt::after {content: \":\\0020\"; padding-right: .5ex}\n",
       ".dl-inline>dt:not(:first-of-type) {padding-left: .5ex}\n",
       "</style><dl class=dl-inline><dt>(Intercept)</dt><dd>2487.47538043236</dd><dt>avg_cp_loss</dt><dd>-11.6828712635975</dd></dl>\n"
      ],
      "text/latex": [
       "\\begin{description*}\n",
       "\\item[(Intercept)] 2487.47538043236\n",
       "\\item[avg\\textbackslash{}\\_cp\\textbackslash{}\\_loss] -11.6828712635975\n",
       "\\end{description*}\n"
      ],
      "text/markdown": [
       "(Intercept)\n",
       ":   2487.47538043236avg_cp_loss\n",
       ":   -11.6828712635975\n",
       "\n"
      ],
      "text/plain": [
       "(Intercept) avg_cp_loss \n",
       " 2487.47538   -11.68287 "
      ]
     },
     "metadata": {},
     "output_type": "display_data"
    }
   ],
   "source": [
    "cat(\"Original dataset results:\\n\")\n",
    "lm_coefs(data_train)\n",
    "\n",
    "cat(\"\\nBootstraped dataset results:\\n\")\n",
    "lm_coefs(data_train, sample(n_samples, n_samples, replace = TRUE))"
   ]
  },
  {
   "cell_type": "code",
   "execution_count": 44,
   "id": "e040276c",
   "metadata": {
    "vscode": {
     "languageId": "r"
    }
   },
   "outputs": [
    {
     "data": {
      "text/plain": [
       "\n",
       "ORDINARY NONPARAMETRIC BOOTSTRAP\n",
       "\n",
       "\n",
       "Call:\n",
       "boot(data = data_train, statistic = lm_coefs, R = 1000)\n",
       "\n",
       "\n",
       "Bootstrap Statistics :\n",
       "      original       bias    std. error\n",
       "t1* 2493.99740 -0.292718702    8.391157\n",
       "t2*  -11.74407  0.001767963    0.100575"
      ]
     },
     "metadata": {},
     "output_type": "display_data"
    }
   ],
   "source": [
    "boot(data_train, lm_coefs, R = 1000)"
   ]
  },
  {
   "cell_type": "markdown",
   "id": "da6013a0",
   "metadata": {},
   "source": [
    "Z powyższych wyników możemy wysnuć następujące wnioski:\n",
    "- **Mały bias**: wartości współczynników w próbkach bootstrapowych są bardzo bliskie wartościom z pełnego zbioru — oznacza to, że model jest stabilny względem losowych fluktuacji danych.\n",
    "- **Błąd standardowy** pokazuje, jak bardzo mogłyby się zmieniać oszacowania współczynników przy zmianie danych — jest umiarkowany (szczególnie mały dla nachylenia).\n",
    "\n",
    "Wynika stąd, iż model regresji liniowej jest stabilny i wiarygodny, a oszacowany wpływ avg_cp_loss na elo jest negatywny, istotny i dobrze oszacowany. Niewielka wariancja i bias współczynników oznacza, że model nie jest nadmiernie wrażliwy na konkretne obserwacje treningowe."
   ]
  }
 ],
 "metadata": {
  "kernelspec": {
   "display_name": "R",
   "language": "R",
   "name": "ir"
  },
  "language_info": {
   "codemirror_mode": "r",
   "file_extension": ".r",
   "mimetype": "text/x-r-source",
   "name": "R",
   "pygments_lexer": "r",
   "version": "4.4.3"
  }
 },
 "nbformat": 4,
 "nbformat_minor": 5
}

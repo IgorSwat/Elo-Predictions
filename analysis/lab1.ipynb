{
 "cells": [
  {
   "cell_type": "markdown",
   "id": "d69b7785",
   "metadata": {},
   "source": [
    "## 2. Regresja liniowa"
   ]
  },
  {
   "cell_type": "code",
   "execution_count": 16,
   "id": "587cc4db",
   "metadata": {
    "vscode": {
     "languageId": "r"
    }
   },
   "outputs": [],
   "source": [
    "library(yaml)"
   ]
  },
  {
   "cell_type": "markdown",
   "id": "39b4f52a",
   "metadata": {},
   "source": [
    "### 2.1 Wczytywanie konfiguracji (*config.yaml*):"
   ]
  },
  {
   "cell_type": "code",
   "execution_count": 10,
   "id": "de9c6753",
   "metadata": {
    "vscode": {
     "languageId": "r"
    }
   },
   "outputs": [],
   "source": [
    "config <- yaml.load_file(\"../config.yaml\")\n",
    "\n",
    "train_filepath <- file.path(\"..\", config$paths$data_train)\n",
    "test_filepath <- file.path(\"..\", config$paths$data_test)"
   ]
  },
  {
   "cell_type": "markdown",
   "id": "a7521a40",
   "metadata": {},
   "source": [
    "### 2.2 Wczytywanie danych treningowych (*train.csv*)"
   ]
  },
  {
   "cell_type": "code",
   "execution_count": 15,
   "id": "df82ca89",
   "metadata": {
    "vscode": {
     "languageId": "r"
    }
   },
   "outputs": [
    {
     "name": "stdout",
     "output_type": "stream",
     "text": [
      "Wymiarowość zbioru: 10001 16\n",
      "Przykładowe elementy zbioru:"
     ]
    },
    {
     "data": {
      "text/html": [
       "<table class=\"dataframe\">\n",
       "<caption>A data.frame: 5 × 16</caption>\n",
       "<thead>\n",
       "\t<tr><th></th><th scope=col>name</th><th scope=col>elo</th><th scope=col>games</th><th scope=col>avg_moves</th><th scope=col>frac_nonterm</th><th scope=col>avg_cp_loss</th><th scope=col>avg_inacc</th><th scope=col>avg_mist</th><th scope=col>avg_blund</th><th scope=col>frac_time_win</th><th scope=col>frac_time_loss</th><th scope=col>avg_time_good</th><th scope=col>avg_time_inaccm</th><th scope=col>avg_time_blund</th><th scope=col>avg_mat_imb_per_mv</th><th scope=col>avg_book_moves</th></tr>\n",
       "\t<tr><th></th><th scope=col>&lt;chr&gt;</th><th scope=col>&lt;int&gt;</th><th scope=col>&lt;int&gt;</th><th scope=col>&lt;dbl&gt;</th><th scope=col>&lt;dbl&gt;</th><th scope=col>&lt;dbl&gt;</th><th scope=col>&lt;dbl&gt;</th><th scope=col>&lt;dbl&gt;</th><th scope=col>&lt;dbl&gt;</th><th scope=col>&lt;dbl&gt;</th><th scope=col>&lt;dbl&gt;</th><th scope=col>&lt;dbl&gt;</th><th scope=col>&lt;dbl&gt;</th><th scope=col>&lt;dbl&gt;</th><th scope=col>&lt;dbl&gt;</th><th scope=col>&lt;dbl&gt;</th></tr>\n",
       "</thead>\n",
       "<tbody>\n",
       "\t<tr><th scope=row>1</th><td>astrolfos     </td><td>1637</td><td>11</td><td>31.54545</td><td>0.5454545</td><td> 64.03458</td><td>1.636364</td><td>1.363636</td><td>1.545455</td><td>0.6301667</td><td>0.9950000</td><td>11.797980</td><td>16.878788</td><td>18.647059</td><td>4.201729</td><td>1.818182</td></tr>\n",
       "\t<tr><th scope=row>2</th><td>barbarik77    </td><td>1489</td><td>10</td><td>35.00000</td><td>1.0000000</td><td> 81.44857</td><td>1.800000</td><td>2.600000</td><td>1.800000</td><td>0.4783333</td><td>0.3511111</td><td> 5.878472</td><td> 7.522727</td><td> 8.833333</td><td>3.862857</td><td>2.100000</td></tr>\n",
       "\t<tr><th scope=row>3</th><td>FawkingAwesome</td><td>1370</td><td>10</td><td>29.10000</td><td>0.7000000</td><td>110.08935</td><td>2.500000</td><td>2.400000</td><td>1.900000</td><td>0.4477778</td><td>0.6200000</td><td>10.251121</td><td>15.571429</td><td>19.000000</td><td>2.127148</td><td>2.300000</td></tr>\n",
       "\t<tr><th scope=row>4</th><td>ZeNNgiLy      </td><td>1431</td><td>10</td><td>28.40000</td><td>0.5000000</td><td>102.34859</td><td>2.100000</td><td>1.700000</td><td>1.800000</td><td>0.4490476</td><td>0.7088889</td><td> 9.872807</td><td>16.368421</td><td>16.055556</td><td>3.566901</td><td>2.500000</td></tr>\n",
       "\t<tr><th scope=row>5</th><td>lelouch_VV    </td><td>1473</td><td>10</td><td>44.50000</td><td>0.5000000</td><td> 68.60674</td><td>2.600000</td><td>2.900000</td><td>2.200000</td><td>0.5946667</td><td>0.5845833</td><td> 7.687500</td><td> 9.945455</td><td>15.136364</td><td>5.368539</td><td>0.300000</td></tr>\n",
       "</tbody>\n",
       "</table>\n"
      ],
      "text/latex": [
       "A data.frame: 5 × 16\n",
       "\\begin{tabular}{r|llllllllllllllll}\n",
       "  & name & elo & games & avg\\_moves & frac\\_nonterm & avg\\_cp\\_loss & avg\\_inacc & avg\\_mist & avg\\_blund & frac\\_time\\_win & frac\\_time\\_loss & avg\\_time\\_good & avg\\_time\\_inaccm & avg\\_time\\_blund & avg\\_mat\\_imb\\_per\\_mv & avg\\_book\\_moves\\\\\n",
       "  & <chr> & <int> & <int> & <dbl> & <dbl> & <dbl> & <dbl> & <dbl> & <dbl> & <dbl> & <dbl> & <dbl> & <dbl> & <dbl> & <dbl> & <dbl>\\\\\n",
       "\\hline\n",
       "\t1 & astrolfos      & 1637 & 11 & 31.54545 & 0.5454545 &  64.03458 & 1.636364 & 1.363636 & 1.545455 & 0.6301667 & 0.9950000 & 11.797980 & 16.878788 & 18.647059 & 4.201729 & 1.818182\\\\\n",
       "\t2 & barbarik77     & 1489 & 10 & 35.00000 & 1.0000000 &  81.44857 & 1.800000 & 2.600000 & 1.800000 & 0.4783333 & 0.3511111 &  5.878472 &  7.522727 &  8.833333 & 3.862857 & 2.100000\\\\\n",
       "\t3 & FawkingAwesome & 1370 & 10 & 29.10000 & 0.7000000 & 110.08935 & 2.500000 & 2.400000 & 1.900000 & 0.4477778 & 0.6200000 & 10.251121 & 15.571429 & 19.000000 & 2.127148 & 2.300000\\\\\n",
       "\t4 & ZeNNgiLy       & 1431 & 10 & 28.40000 & 0.5000000 & 102.34859 & 2.100000 & 1.700000 & 1.800000 & 0.4490476 & 0.7088889 &  9.872807 & 16.368421 & 16.055556 & 3.566901 & 2.500000\\\\\n",
       "\t5 & lelouch\\_VV     & 1473 & 10 & 44.50000 & 0.5000000 &  68.60674 & 2.600000 & 2.900000 & 2.200000 & 0.5946667 & 0.5845833 &  7.687500 &  9.945455 & 15.136364 & 5.368539 & 0.300000\\\\\n",
       "\\end{tabular}\n"
      ],
      "text/markdown": [
       "\n",
       "A data.frame: 5 × 16\n",
       "\n",
       "| <!--/--> | name &lt;chr&gt; | elo &lt;int&gt; | games &lt;int&gt; | avg_moves &lt;dbl&gt; | frac_nonterm &lt;dbl&gt; | avg_cp_loss &lt;dbl&gt; | avg_inacc &lt;dbl&gt; | avg_mist &lt;dbl&gt; | avg_blund &lt;dbl&gt; | frac_time_win &lt;dbl&gt; | frac_time_loss &lt;dbl&gt; | avg_time_good &lt;dbl&gt; | avg_time_inaccm &lt;dbl&gt; | avg_time_blund &lt;dbl&gt; | avg_mat_imb_per_mv &lt;dbl&gt; | avg_book_moves &lt;dbl&gt; |\n",
       "|---|---|---|---|---|---|---|---|---|---|---|---|---|---|---|---|---|\n",
       "| 1 | astrolfos      | 1637 | 11 | 31.54545 | 0.5454545 |  64.03458 | 1.636364 | 1.363636 | 1.545455 | 0.6301667 | 0.9950000 | 11.797980 | 16.878788 | 18.647059 | 4.201729 | 1.818182 |\n",
       "| 2 | barbarik77     | 1489 | 10 | 35.00000 | 1.0000000 |  81.44857 | 1.800000 | 2.600000 | 1.800000 | 0.4783333 | 0.3511111 |  5.878472 |  7.522727 |  8.833333 | 3.862857 | 2.100000 |\n",
       "| 3 | FawkingAwesome | 1370 | 10 | 29.10000 | 0.7000000 | 110.08935 | 2.500000 | 2.400000 | 1.900000 | 0.4477778 | 0.6200000 | 10.251121 | 15.571429 | 19.000000 | 2.127148 | 2.300000 |\n",
       "| 4 | ZeNNgiLy       | 1431 | 10 | 28.40000 | 0.5000000 | 102.34859 | 2.100000 | 1.700000 | 1.800000 | 0.4490476 | 0.7088889 |  9.872807 | 16.368421 | 16.055556 | 3.566901 | 2.500000 |\n",
       "| 5 | lelouch_VV     | 1473 | 10 | 44.50000 | 0.5000000 |  68.60674 | 2.600000 | 2.900000 | 2.200000 | 0.5946667 | 0.5845833 |  7.687500 |  9.945455 | 15.136364 | 5.368539 | 0.300000 |\n",
       "\n"
      ],
      "text/plain": [
       "  name           elo  games avg_moves frac_nonterm avg_cp_loss avg_inacc\n",
       "1 astrolfos      1637 11    31.54545  0.5454545     64.03458   1.636364 \n",
       "2 barbarik77     1489 10    35.00000  1.0000000     81.44857   1.800000 \n",
       "3 FawkingAwesome 1370 10    29.10000  0.7000000    110.08935   2.500000 \n",
       "4 ZeNNgiLy       1431 10    28.40000  0.5000000    102.34859   2.100000 \n",
       "5 lelouch_VV     1473 10    44.50000  0.5000000     68.60674   2.600000 \n",
       "  avg_mist avg_blund frac_time_win frac_time_loss avg_time_good avg_time_inaccm\n",
       "1 1.363636 1.545455  0.6301667     0.9950000      11.797980     16.878788      \n",
       "2 2.600000 1.800000  0.4783333     0.3511111       5.878472      7.522727      \n",
       "3 2.400000 1.900000  0.4477778     0.6200000      10.251121     15.571429      \n",
       "4 1.700000 1.800000  0.4490476     0.7088889       9.872807     16.368421      \n",
       "5 2.900000 2.200000  0.5946667     0.5845833       7.687500      9.945455      \n",
       "  avg_time_blund avg_mat_imb_per_mv avg_book_moves\n",
       "1 18.647059      4.201729           1.818182      \n",
       "2  8.833333      3.862857           2.100000      \n",
       "3 19.000000      2.127148           2.300000      \n",
       "4 16.055556      3.566901           2.500000      \n",
       "5 15.136364      5.368539           0.300000      "
      ]
     },
     "metadata": {},
     "output_type": "display_data"
    }
   ],
   "source": [
    "data_train <- read.csv(train_filepath)\n",
    "\n",
    "cat(\"Wymiarowość zbioru:\", dim(data_train))\n",
    "\n",
    "cat(\"\\nPrzykładowe elementy zbioru:\")\n",
    "head(data_train, 5)"
   ]
  },
  {
   "cell_type": "markdown",
   "id": "80ba2531",
   "metadata": {},
   "source": [
    "### 2.3 Prosta regresja liniowa\n",
    "\n",
    "W wariancie prostej regresji liniowej wykorzystujemy tylko jedną zmienną niezależną. W przypadku omawianego zbioru wykorzystana zostanie zmienna **avg_cp_loss** - średnie odchylenie jakości gry względem ruchów silnika."
   ]
  },
  {
   "cell_type": "code",
   "execution_count": 22,
   "id": "75b0c051",
   "metadata": {
    "vscode": {
     "languageId": "r"
    }
   },
   "outputs": [
    {
     "name": "stdout",
     "output_type": "stream",
     "text": [
      "Składowe obiektu fit_simple:\n",
      "coefficients residuals effects rank fitted.values assign qr df.residual xlevels call terms model"
     ]
    }
   ],
   "source": [
    "fit_simple <- lm(elo ~ avg_cp_loss, data = data_train)\n",
    "\n",
    "cat(\"Składowe obiektu fit_simple:\\n\")\n",
    "cat(names(fit_simple))"
   ]
  },
  {
   "cell_type": "markdown",
   "id": "0393e1b2",
   "metadata": {},
   "source": [
    "Poniżej znajdują się najważniejsze informacje o wykorzystanym modelu regresji liniowej:"
   ]
  },
  {
   "cell_type": "code",
   "execution_count": 58,
   "id": "01b47022",
   "metadata": {
    "vscode": {
     "languageId": "r"
    }
   },
   "outputs": [
    {
     "name": "stdout",
     "output_type": "stream",
     "text": [
      "Współczynniki:\n",
      "--------------------\n",
      "Przecięcie (intercept): 2493.997 \n",
      "Nachylenie (slope): -11.74407 \n"
     ]
    },
    {
     "name": "stdout",
     "output_type": "stream",
     "text": [
      "Przedziały ufności: 2478.408 -11.93686 2509.587 -11.55128 \n",
      "\n",
      "Inne:\n",
      "--------------------\n",
      "Sigma: 250.6759 \n",
      "R-kwadrat: 0.5877949 \n",
      "F-stat: 14258.34 1 9999 \n"
     ]
    }
   ],
   "source": [
    "cat(\"Współczynniki:\\n--------------------\\n\")\n",
    "cat(\"Przecięcie (intercept):\", coef(fit_simple)[1], \"\\n\")\n",
    "cat(\"Nachylenie (slope):\", coef(fit_simple)[2], \"\\n\")\n",
    "cat(\"Przedziały ufności:\", confint(fit_simple), \"\\n\\n\")\n",
    "\n",
    "cat(\"Inne:\\n--------------------\\n\")\n",
    "summary_list <- summary(fit_simple)\n",
    "cat(\"Sigma:\", summary_list$sigma, \"\\n\")\n",
    "cat(\"R-kwadrat:\", summary_list$r.squared, \"\\n\")\n",
    "cat(\"F-stat:\", summary_list$fstatistic, \"\\n\")\n"
   ]
  },
  {
   "cell_type": "markdown",
   "id": "cd789005",
   "metadata": {},
   "source": [
    "Na podstawie powyższych wyników możemy wysunąć następujące wnioski:\n",
    "- Ujemny współczynnik nachylenia prostej świadczy o tym, że ranking gracza (**elo**) jest odwrotnie proporcjonalny do średniej straty w centypionach (**avg_cp_loss**), co potwierdza intuicyjne przypuszczenia\n",
    "- Wartość $\\sigma = 250.6759$ świadczy o tym, że błąd prognozy przy użyciu powyższego modelu regresji wynosi około 250 punktów rankingowych\n",
    "- $R^2$ mierzy, jak dobrze model dopasowuje dane. Wynosi on $R^2=0.5878$, co oznacza, że model wyjaśnia około 58.78% zmienności w danych. Wartości powyżej 0.5 wskazują na przyzwoite, choć nieidealne dopasowanie modelu.\n",
    "- $F-statystyka$ to test istotności modelu. Im wyższa wartość, tym bardziej model jest statystycznie istotny. Wartość 14258.34 sugeruje, że model jest bardzo istotny statystycznie — prawdopodobnie różnica między modelami z i bez zmiennych predyktorów jest bardzo znacząca.\n",
    "\n",
    "Poniżej znajdują się wizualizacje dla omawianego wyżej wariantu regresji liniowej:"
   ]
  },
  {
   "cell_type": "code",
   "execution_count": 60,
   "id": "1e753873",
   "metadata": {
    "vscode": {
     "languageId": "r"
    }
   },
   "outputs": [
    {
     "data": {
      "image/png": "[encoded data removed]",
      "text/plain": [
       "Plot with title \"Zależność między avg_cp_loss a ELO\""
      ]
     },
     "metadata": {
      "image/png": {
       "height": 420,
       "width": 420
      }
     },
     "output_type": "display_data"
    }
   ],
   "source": [
    "plot(data_train$avg_cp_loss, data_train$elo,\n",
    "     main = \"Zależność między avg_cp_loss a ELO\",\n",
    "     xlab = \"Średnia strata centypunktów (avg_cp_loss)\",\n",
    "     ylab = \"Ranking ELO\",\n",
    "     pch = 19,                    # pełne kółka\n",
    "     col = rgb(0.2, 0.4, 0.6, 0.6))  # półprzezroczysty niebieski\n",
    "\n",
    "abline(fit_simple, col = \"red\", lwd = 2)  # linia regresji na czerwono i grubsza\n",
    "\n",
    "grid()  # siatka pomocnicza"
   ]
  },
  {
   "cell_type": "markdown",
   "id": "b71d610e",
   "metadata": {},
   "source": [
    "Jak można zauważyć na wykresie, wyznaczona prosta dosyć dobrze radzi sobie z przybliżaniem rozkładu rankingu względem jakości gry, choć sam rozkład jest wyraźnie nieliniowy."
   ]
  },
  {
   "cell_type": "code",
   "execution_count": 63,
   "id": "e1fb5b4a",
   "metadata": {
    "vscode": {
     "languageId": "r"
    }
   },
   "outputs": [
    {
     "data": {
      "image/png": "[encoded data removed]",
      "text/plain": [
       "Plot with title \"Wartości odchyleń dla modelu regresji\""
      ]
     },
     "metadata": {
      "image/png": {
       "height": 420,
       "width": 420
      }
     },
     "output_type": "display_data"
    }
   ],
   "source": [
    "plot(hatvalues(fit_simple),\n",
    "     main = \"Wartości odchyleń dla modelu regresji\",\n",
    "     xlab = \"Indeks obserwacji\",\n",
    "     ylab = \"Wartość odchylenia (hat value)\",\n",
    "     pch = 19,                      # Wypełnione kółka\n",
    "     col = rgb(0.2, 0.4, 0.6, 0.6),  # Kolor półprzezroczysty\n",
    "     cex = 1.5,                     # Zwiększenie rozmiaru punktów\n",
    "     las = 1)                        # Etykiety osi poziome\n",
    "\n",
    "# Dodanie linii poziomej wskazującej średnią wartość odchylenia\n",
    "abline(h = mean(hatvalues(fit_simple)), col = \"red\", lwd = 2, lty = 2)\n",
    "\n",
    "# Dodanie linii wskazującej punkt najbardziej wpływający na model (największa wartość)\n",
    "max_index <- which.max(hatvalues(fit_simple))\n",
    "points(max_index, hatvalues(fit_simple)[max_index], col = \"green\", pch = 19, cex = 2)\n",
    "\n",
    "# Dodanie siatki pomocniczej\n",
    "grid()"
   ]
  },
  {
   "cell_type": "markdown",
   "id": "6c3c83e2",
   "metadata": {},
   "source": [
    "### 2.4 Regresja wielokrotna\n",
    "\n",
    "Regresja dla dwóch zmiennych niezależnych - do ```avg_cp_loss``` dodajemy ```avg_mat_imb_per_mv``` (średnia nierównowaga w metariale podczas partii):"
   ]
  },
  {
   "cell_type": "code",
   "execution_count": 66,
   "id": "ca05b8ff",
   "metadata": {
    "vscode": {
     "languageId": "r"
    }
   },
   "outputs": [
    {
     "data": {
      "text/plain": [
       "\n",
       "Call:\n",
       "lm(formula = elo ~ avg_cp_loss + avg_mat_imb_per_mv, data = data_train)\n",
       "\n",
       "Residuals:\n",
       "     Min       1Q   Median       3Q      Max \n",
       "-1091.76  -156.85     2.04   158.23  1842.11 \n",
       "\n",
       "Coefficients:\n",
       "                    Estimate Std. Error t value Pr(>|t|)    \n",
       "(Intercept)        2518.8001     7.3823  341.19   <2e-16 ***\n",
       "avg_cp_loss          -8.8150     0.1156  -76.23   <2e-16 ***\n",
       "avg_mat_imb_per_mv  -61.5390     1.4992  -41.05   <2e-16 ***\n",
       "---\n",
       "Signif. codes:  0 '***' 0.001 '**' 0.01 '*' 0.05 '.' 0.1 ' ' 1\n",
       "\n",
       "Residual standard error: 231.9 on 9998 degrees of freedom\n",
       "Multiple R-squared:  0.6472,\tAdjusted R-squared:  0.6472 \n",
       "F-statistic:  9172 on 2 and 9998 DF,  p-value: < 2.2e-16\n"
      ]
     },
     "metadata": {},
     "output_type": "display_data"
    }
   ],
   "source": [
    "fit_2_variables <- lm(elo ~ avg_cp_loss + avg_mat_imb_per_mv, data = data_train)\n",
    "\n",
    "summary(fit_2_variables)"
   ]
  },
  {
   "cell_type": "markdown",
   "id": "d2f1d9c3",
   "metadata": {},
   "source": [
    "W porównaniu do regresji pojedynczej (z jedną zmienną avg_cp_loss), regresja wielokrotna (z dodatkiem avg_mat_imb_per_mv) wykazuje lepsze dopasowanie do danych. Wartość błędu standardowego reszt ($\\sigma$) spadła z około 250.7 do 231.9, co oznacza, że prognozy modelu są dokładniejsze. Również współczynnik determinacji $R^2$ wzrósł z 0.5878 do 0.6472, co oznacza, że nowy model <u>wyjaśnia większą część zmienności rankingu (elo)</u>. Dodatkowo, uwzględniono skorygowany $R^2$, który pozostał równy 0.6472, co potwierdza, że dodanie drugiej zmiennej nie doprowadziło do przeuczenia modelu. Choć wartość statystyki F spadła z 14258 do 9172, nadal wskazuje na bardzo wysoką istotność modelu (p-value < 2.2e-16). Ogólnie, regresja wielokrotna okazała się lepsza — jest dokładniejsza i lepiej wyjaśnia dane niż model jednowskaźnikowy.\n",
    "\n",
    "Teraz porównamy regresję wielokrotną z udziałem wszystkich zmiennych, poza **name** (która pełni rolę jedynie identyfikatora gracza) i **no_games** (która nie powinna mieć wpływu na wyniki)."
   ]
  },
  {
   "cell_type": "code",
   "execution_count": 68,
   "id": "eeb54a29",
   "metadata": {
    "vscode": {
     "languageId": "r"
    }
   },
   "outputs": [
    {
     "data": {
      "text/plain": [
       "\n",
       "Call:\n",
       "lm(formula = elo ~ . - name - games, data = data_train)\n",
       "\n",
       "Residuals:\n",
       "    Min      1Q  Median      3Q     Max \n",
       "-922.54 -135.37    0.91  134.77 1785.79 \n",
       "\n",
       "Coefficients:\n",
       "                    Estimate Std. Error t value Pr(>|t|)    \n",
       "(Intercept)        1858.0956    28.7576  64.612  < 2e-16 ***\n",
       "avg_moves            16.3031     0.7095  22.979  < 2e-16 ***\n",
       "frac_nonterm        -22.5249    13.7184  -1.642 0.100633    \n",
       "avg_cp_loss          -4.8413     0.2036 -23.774  < 2e-16 ***\n",
       "avg_inacc           -17.8468     4.2376  -4.212 2.56e-05 ***\n",
       "avg_mist             18.3453     4.9444   3.710 0.000208 ***\n",
       "avg_blund          -120.7608     4.8879 -24.706  < 2e-16 ***\n",
       "frac_time_win       -27.1943    21.4576  -1.267 0.205059    \n",
       "frac_time_loss      101.2796    19.2438   5.263 1.45e-07 ***\n",
       "avg_time_good       -12.8773     1.8370  -7.010 2.54e-12 ***\n",
       "avg_time_inaccm       0.8364     0.6785   1.233 0.217715    \n",
       "avg_time_blund        2.1447     0.3757   5.709 1.17e-08 ***\n",
       "avg_mat_imb_per_mv  -73.1493     1.5163 -48.242  < 2e-16 ***\n",
       "avg_book_moves       49.0308     2.7681  17.713  < 2e-16 ***\n",
       "---\n",
       "Signif. codes:  0 '***' 0.001 '**' 0.01 '*' 0.05 '.' 0.1 ' ' 1\n",
       "\n",
       "Residual standard error: 202.3 on 9987 degrees of freedom\n",
       "Multiple R-squared:  0.732,\tAdjusted R-squared:  0.7316 \n",
       "F-statistic:  2098 on 13 and 9987 DF,  p-value: < 2.2e-16\n"
      ]
     },
     "metadata": {},
     "output_type": "display_data"
    }
   ],
   "source": [
    "fit_all_variables <- lm(elo ~ . - name - games, data = data_train)\n",
    "\n",
    "summary(fit_all_variables)"
   ]
  },
  {
   "cell_type": "markdown",
   "id": "0ee71b5a",
   "metadata": {},
   "source": [
    "Obecny model regresji, który przewiduje elo na podstawie 13 zmiennych (z wyłączeniem name i games), okazuje się zdecydowanie najlepszy spośród wszystkich dotychczasowych. Błąd standardowy reszt ($\\sigma$) spadł do 202.3, co oznacza, że prognozy modelu są dokładniejsze niż w poprzednich wersjach – zarówno w modelu pojedynczym, gdzie $\\sigma$ wynosiła około 250.7, jak i w modelu z dwiema zmiennymi (ok. 231.9). Również współczynnik determinacji $R^2$ znacząco wzrósł – z 0.5878 w modelu prostym oraz 0.6472 w modelu wielokrotnym do aż 0.732 w obecnym, co oznacza, że aż 73,2% zmienności rankingu elo jest wyjaśniane przez model. Skorygowany $R^2$ utrzymał się na bardzo zbliżonym poziomie (0.7316), co sugeruje, że wzrost jakości modelu nie wynika jedynie z dodania większej liczby zmiennych, ale rzeczywiście poprawia dopasowanie. Warto także zauważyć, że większość zmiennych w modelu jest istotna statystycznie (bardzo niskie wartości p), a zwłaszcza takie jak avg_cp_loss, avg_blund czy avg_mat_imb_per_mv. Kilka predyktorów, takich jak **frac_nonterm** czy **frac_time_win**, nie osiągnęło poziomu istotności, więc można by rozważyć ich usunięcie w dalszej optymalizacji modelu. Ogólnie rzecz biorąc, obecny model oferuje największą precyzję i najlepiej wyjaśnia dane spośród wszystkich dotychczasowych podejść.\n",
    "\n",
    "Ciekawostką może być fakt, iż ilość zużywanego przez graczy czasu w partiach przegranych (frac_time_loss) jest znacznie bardziej istotna statystycznie niż analogiczna wartość ale dla partii wygranych."
   ]
  },
  {
   "cell_type": "markdown",
   "id": "57f76037",
   "metadata": {},
   "source": [
    "### 2.5 Interakcje między zmiennymi\n",
    "\n",
    "Wracamy do wariantu z dwoma zmiennymi niezależnymi, tym razem dodając interkację między zmiennymi:"
   ]
  },
  {
   "cell_type": "code",
   "execution_count": 69,
   "id": "5fe2737a",
   "metadata": {
    "vscode": {
     "languageId": "r"
    }
   },
   "outputs": [
    {
     "data": {
      "text/plain": [
       "\n",
       "Call:\n",
       "lm(formula = elo ~ avg_cp_loss * avg_mat_imb_per_mv, data = data_train)\n",
       "\n",
       "Residuals:\n",
       "     Min       1Q   Median       3Q      Max \n",
       "-1196.23  -149.16    -2.15   147.41  1002.40 \n",
       "\n",
       "Coefficients:\n",
       "                                 Estimate Std. Error t value Pr(>|t|)    \n",
       "(Intercept)                    2888.16259   14.98464  192.74   <2e-16 ***\n",
       "avg_cp_loss                     -13.12297    0.18992  -69.10   <2e-16 ***\n",
       "avg_mat_imb_per_mv             -152.23771    3.54628  -42.93   <2e-16 ***\n",
       "avg_cp_loss:avg_mat_imb_per_mv    0.96179    0.03435   28.00   <2e-16 ***\n",
       "---\n",
       "Signif. codes:  0 '***' 0.001 '**' 0.01 '*' 0.05 '.' 0.1 ' ' 1\n",
       "\n",
       "Residual standard error: 223.3 on 9997 degrees of freedom\n",
       "Multiple R-squared:  0.6729,\tAdjusted R-squared:  0.6728 \n",
       "F-statistic:  6855 on 3 and 9997 DF,  p-value: < 2.2e-16\n"
      ]
     },
     "metadata": {},
     "output_type": "display_data"
    }
   ],
   "source": [
    "summary(lm(elo ~ avg_cp_loss * avg_mat_imb_per_mv, data = data_train))"
   ]
  },
  {
   "cell_type": "markdown",
   "id": "d67e9d51",
   "metadata": {},
   "source": [
    "Dodani interakcji poprawiło wynik - współczynnik determinacji $R^2$ wzrósł z 0.6472 do 0.6729. Nowo utworzona zmienna okazała się być istotna statystycznie."
   ]
  },
  {
   "cell_type": "markdown",
   "id": "17aec389",
   "metadata": {},
   "source": [
    "### 2.6 Nieliniowe transformacje predyktorów\n",
    "\n",
    "Testujemy wielomianową zależność w oryginalnym wariancie, tzn. rankingu ```elo``` od ```avg_cp_loss```:"
   ]
  },
  {
   "cell_type": "code",
   "execution_count": 70,
   "id": "50360a77",
   "metadata": {
    "vscode": {
     "languageId": "r"
    }
   },
   "outputs": [
    {
     "data": {
      "text/plain": [
       "\n",
       "Call:\n",
       "lm(formula = elo ~ avg_cp_loss + I(avg_cp_loss^2), data = data_train)\n",
       "\n",
       "Residuals:\n",
       "     Min       1Q   Median       3Q      Max \n",
       "-1330.20  -162.89     5.69   170.36   940.08 \n",
       "\n",
       "Coefficients:\n",
       "                   Estimate Std. Error t value Pr(>|t|)    \n",
       "(Intercept)       2.740e+03  1.830e+01  149.69   <2e-16 ***\n",
       "avg_cp_loss      -1.798e+01  4.304e-01  -41.76   <2e-16 ***\n",
       "I(avg_cp_loss^2)  3.557e-02  2.393e-03   14.86   <2e-16 ***\n",
       "---\n",
       "Signif. codes:  0 '***' 0.001 '**' 0.01 '*' 0.05 '.' 0.1 ' ' 1\n",
       "\n",
       "Residual standard error: 248 on 9998 degrees of freedom\n",
       "Multiple R-squared:  0.5967,\tAdjusted R-squared:  0.5966 \n",
       "F-statistic:  7396 on 2 and 9998 DF,  p-value: < 2.2e-16\n"
      ]
     },
     "metadata": {},
     "output_type": "display_data"
    }
   ],
   "source": [
    "fit_simple_squared <- lm(elo ~ avg_cp_loss + I(avg_cp_loss^2), data = data_train)\n",
    "\n",
    "summary(fit_simple_squared)"
   ]
  },
  {
   "cell_type": "code",
   "execution_count": 71,
   "id": "26ff1a83",
   "metadata": {
    "vscode": {
     "languageId": "r"
    }
   },
   "outputs": [
    {
     "data": {
      "text/html": [
       "<table class=\"dataframe\">\n",
       "<caption>A anova: 2 × 6</caption>\n",
       "<thead>\n",
       "\t<tr><th></th><th scope=col>Res.Df</th><th scope=col>RSS</th><th scope=col>Df</th><th scope=col>Sum of Sq</th><th scope=col>F</th><th scope=col>Pr(&gt;F)</th></tr>\n",
       "\t<tr><th></th><th scope=col>&lt;dbl&gt;</th><th scope=col>&lt;dbl&gt;</th><th scope=col>&lt;dbl&gt;</th><th scope=col>&lt;dbl&gt;</th><th scope=col>&lt;dbl&gt;</th><th scope=col>&lt;dbl&gt;</th></tr>\n",
       "</thead>\n",
       "<tbody>\n",
       "\t<tr><th scope=row>1</th><td>9999</td><td>628321453</td><td>NA</td><td>      NA</td><td>     NA</td><td>          NA</td></tr>\n",
       "\t<tr><th scope=row>2</th><td>9998</td><td>614740535</td><td> 1</td><td>13580919</td><td>220.877</td><td>1.958642e-49</td></tr>\n",
       "</tbody>\n",
       "</table>\n"
      ],
      "text/latex": [
       "A anova: 2 × 6\n",
       "\\begin{tabular}{r|llllll}\n",
       "  & Res.Df & RSS & Df & Sum of Sq & F & Pr(>F)\\\\\n",
       "  & <dbl> & <dbl> & <dbl> & <dbl> & <dbl> & <dbl>\\\\\n",
       "\\hline\n",
       "\t1 & 9999 & 628321453 & NA &       NA &      NA &           NA\\\\\n",
       "\t2 & 9998 & 614740535 &  1 & 13580919 & 220.877 & 1.958642e-49\\\\\n",
       "\\end{tabular}\n"
      ],
      "text/markdown": [
       "\n",
       "A anova: 2 × 6\n",
       "\n",
       "| <!--/--> | Res.Df &lt;dbl&gt; | RSS &lt;dbl&gt; | Df &lt;dbl&gt; | Sum of Sq &lt;dbl&gt; | F &lt;dbl&gt; | Pr(&gt;F) &lt;dbl&gt; |\n",
       "|---|---|---|---|---|---|---|\n",
       "| 1 | 9999 | 628321453 | NA |       NA |      NA |           NA |\n",
       "| 2 | 9998 | 614740535 |  1 | 13580919 | 220.877 | 1.958642e-49 |\n",
       "\n"
      ],
      "text/plain": [
       "  Res.Df RSS       Df Sum of Sq F       Pr(>F)      \n",
       "1 9999   628321453 NA       NA       NA           NA\n",
       "2 9998   614740535  1 13580919  220.877 1.958642e-49"
      ]
     },
     "metadata": {},
     "output_type": "display_data"
    }
   ],
   "source": [
    "anova(fit_simple, fit_simple_squared)"
   ]
  },
  {
   "cell_type": "markdown",
   "id": "27d64b10",
   "metadata": {},
   "source": [
    "Na podstawie wyniku testu widzimi, że użycie zależności kwadratowej poprawia jakość dopasowania modelu (p-value ≪ 0.05).\n",
    "\n",
    "Przetestujmy teraz logarytmiczną transformację predyktora:"
   ]
  },
  {
   "cell_type": "code",
   "execution_count": 76,
   "id": "a1eb6f97",
   "metadata": {
    "vscode": {
     "languageId": "r"
    }
   },
   "outputs": [
    {
     "data": {
      "text/plain": [
       "\n",
       "Call:\n",
       "lm(formula = elo ~ log(avg_cp_loss), data = data_train)\n",
       "\n",
       "Residuals:\n",
       "     Min       1Q   Median       3Q      Max \n",
       "-1772.85  -169.46     0.96   177.27   912.04 \n",
       "\n",
       "Coefficients:\n",
       "                 Estimate Std. Error t value Pr(>|t|)    \n",
       "(Intercept)      5361.811     32.539   164.8   <2e-16 ***\n",
       "log(avg_cp_loss) -879.459      7.569  -116.2   <2e-16 ***\n",
       "---\n",
       "Signif. codes:  0 '***' 0.001 '**' 0.01 '*' 0.05 '.' 0.1 ' ' 1\n",
       "\n",
       "Residual standard error: 254.7 on 9999 degrees of freedom\n",
       "Multiple R-squared:  0.5745,\tAdjusted R-squared:  0.5744 \n",
       "F-statistic: 1.35e+04 on 1 and 9999 DF,  p-value: < 2.2e-16\n"
      ]
     },
     "metadata": {},
     "output_type": "display_data"
    }
   ],
   "source": [
    "summary(lm(elo ~ log(avg_cp_loss), data = data_train))"
   ]
  },
  {
   "cell_type": "markdown",
   "id": "3620dca1",
   "metadata": {},
   "source": [
    "Użycie transformacji logarytmicznej nie przyniosło znaczącej poprawy wyników. Sugeruje to, iż dane w tym przypadku oparte są o taką zależność nieliniową, której nie jest łatwo wprost przybliżyć logarytmem."
   ]
  }
 ],
 "metadata": {
  "kernelspec": {
   "display_name": "R",
   "language": "R",
   "name": "ir"
  },
  "language_info": {
   "codemirror_mode": "r",
   "file_extension": ".r",
   "mimetype": "text/x-r-source",
   "name": "R",
   "pygments_lexer": "r",
   "version": "4.4.3"
  }
 },
 "nbformat": 4,
 "nbformat_minor": 5
}
